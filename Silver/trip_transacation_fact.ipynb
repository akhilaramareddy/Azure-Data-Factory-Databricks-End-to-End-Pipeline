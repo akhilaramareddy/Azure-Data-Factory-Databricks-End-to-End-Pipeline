{
 "cells": [
  {
   "cell_type": "markdown",
   "metadata": {
    "application/vnd.databricks.v1+cell": {
     "cellMetadata": {},
     "inputWidgets": {},
     "nuid": "61104a8a-260e-4481-be7c-c5c2d7358a0a",
     "showTitle": false,
     "tableResultSettingsMap": {},
     "title": ""
    }
   },
   "source": [
    "# Create Trip Transaction  Fact"
   ]
  },
  {
   "cell_type": "code",
   "execution_count": 0,
   "metadata": {
    "application/vnd.databricks.v1+cell": {
     "cellMetadata": {
      "byteLimit": 2048000,
      "rowLimit": 10000
     },
     "inputWidgets": {},
     "nuid": "76ef0950-686d-4cb7-8fe8-4b23db06dad9",
     "showTitle": false,
     "tableResultSettingsMap": {},
     "title": ""
    }
   },
   "outputs": [],
   "source": [
    "from delta.tables import *\n",
    "from pyspark.sql.functions import *\n",
    "import pyspark.sql.functions as F"
   ]
  },
  {
   "cell_type": "code",
   "execution_count": 0,
   "metadata": {
    "application/vnd.databricks.v1+cell": {
     "cellMetadata": {
      "byteLimit": 2048000,
      "rowLimit": 10000
     },
     "inputWidgets": {},
     "nuid": "c760cece-f44c-409a-bc0d-860405d2cfe3",
     "showTitle": false,
     "tableResultSettingsMap": {},
     "title": ""
    }
   },
   "outputs": [],
   "source": [
    "# Azure Blob Storage details\n",
    "storage_account_name = \"<storage-account-name>\"\n",
    "storage_account_key = \"<storage-account-access-key>\"\n",
    "container_name = \"deltalake\"\n",
    "file_path1 = \"bronze/Trip_Transactions\"\n",
    "file_path2 = \"bronze/Rewards_Points\""
   ]
  },
  {
   "cell_type": "code",
   "execution_count": 0,
   "metadata": {
    "application/vnd.databricks.v1+cell": {
     "cellMetadata": {
      "byteLimit": 2048000,
      "rowLimit": 10000
     },
     "inputWidgets": {},
     "nuid": "ebf05189-767e-43b4-98e0-766892799850",
     "showTitle": false,
     "tableResultSettingsMap": {},
     "title": ""
    }
   },
   "outputs": [],
   "source": [
    "spark.conf.set(f\"fs.azure.account.key.{storage_account_name}.dfs.core.windows.net\", storage_account_key)"
   ]
  },
  {
   "cell_type": "code",
   "execution_count": 0,
   "metadata": {
    "application/vnd.databricks.v1+cell": {
     "cellMetadata": {
      "byteLimit": 2048000,
      "rowLimit": 10000
     },
     "inputWidgets": {},
     "nuid": "ffa28010-ce72-48f0-bf58-334ce38a7ea7",
     "showTitle": false,
     "tableResultSettingsMap": {},
     "title": ""
    }
   },
   "outputs": [],
   "source": [
    "df1=spark.read.format(\"delta\").load(f\"abfss://{container_name}@{storage_account_name}.dfs.core.windows.net/{file_path1}\")"
   ]
  },
  {
   "cell_type": "code",
   "execution_count": 0,
   "metadata": {
    "application/vnd.databricks.v1+cell": {
     "cellMetadata": {
      "byteLimit": 2048000,
      "rowLimit": 10000
     },
     "inputWidgets": {},
     "nuid": "b6e526ae-f46f-4ed6-94ae-19bb9cdb8ce1",
     "showTitle": false,
     "tableResultSettingsMap": {},
     "title": ""
    }
   },
   "outputs": [
    {
     "output_type": "stream",
     "name": "stdout",
     "output_type": "stream",
     "text": [
      "+-------+--------------------+--------------------+---------+-----------+------------------------+-----------+---------------------+--------------+-----------------------------+----------------+--------------------------+-------------------+--------------+----------+-----------+---------------------+--------------------+--------------------+-----------+-------------+\n|trip_id|trip_start_timestamp|  trip_end_timestamp|driver_id|driver_name|source_location_address1|source_city|source_province_state|source_country|destination_location_address1|destination_city|destination_province_state|destination_country|total_distance|total_fare|trip_status|delay_start_time_mins|      payment_method|      payment_Status|customer_id|customer_name|\n+-------+--------------------+--------------------+---------+-----------+------------------------+-----------+---------------------+--------------+-----------------------------+----------------+--------------------------+-------------------+--------------+----------+-----------+---------------------+--------------------+--------------------+-----------+-------------+\n|      1| 2022-12-04 05:17:52| 2022-12-04 07:17:52|       A1|        Ram|     21/3, Jubliee hills|  Hyderabad|                   TS|         India|                         null|      Vijayawada|                        AP|              India|             0|         0|  Completed|                    0|                Cash|             Cleared|          1|         ABC0|\n|      2|2022-12-04 07:17:...|2022-12-04 09:17:...|       A2|        Sam|     172/4, Gandhi nagar|      Delhi|                  NCR|         India|                         null|            Agra|                        UP|              India|           222|      1949|  Completed|                    4|Credit/Online Ban...|Confirmation awai...|          2|         ABC1|\n|      3|2022-12-04 09:17:...|2022-12-04 11:17:...|       A3|      Kevin|         9/3-12, T-nagar|    Chennai|                   TN|         India|                         null|           Salem|                        TN|              India|           354|       722|  Completed|                    0|              Wallet|           Completed|          3|         ABC2|\n|      4|2022-12-04 11:17:...|2022-12-04 13:17:...|       A4|    Aaditya|      10/3, Madurai main|    Madurai|                   TN|         India|                         null|          Trichy|                        TN|              India|           189|       627|  Completed|                    3|                Cash|             Cleared|          4|         ABC3|\n|      5|2022-12-04 13:17:...|2022-12-04 15:17:...|       A5|      Sagar|    6/4, Malleshwaram...|  Bangalore|                   KN|         India|                         null|         Chennai|                        TN|              India|           305|      1465|  Completed|                    0|Credit/Online Ban...|Confirmation awai...|          5|         ABC4|\n|      6|2022-12-04 15:17:...|2022-12-04 17:17:...|       A6|      David|      57/3, Kanjata road|       Agra|                   UP|         India|                         null|         Kolkata|                        WB|              India|           236|      1050|  Completed|                   10|Credit/Online Ban...|Confirmation awai...|          6|         ABC5|\n|      7|2022-12-04 17:17:...|2022-12-04 19:17:...|       A7|     Nivaan|      18/4-1, Lodhi road|     Delhi |                  NCR|         India|                         null|          Mumbai|                        MH|              India|           319|       457|  Completed|                    4|                Cash|             Cleared|          7|         ABC6|\n|      8|2022-12-04 19:17:...|2022-12-04 21:17:...|       A8|      Aarav|     21/3, Jubliee hills|  Hyderabad|                   TS|         India|                         null|       Tirupathi|                        AP|              India|           257|       116|  Completed|                   10|              Wallet|           Completed|          8|         ABC7|\n|      9|2022-12-04 21:17:...|2022-12-04 23:17:...|       A9|      Sadru|     2/4,6, airport road|    Chennai|                   TN|         India|                         null|        Tanjavur|                        TN|              India|           286|      1724|  Completed|                    1|                Cash|             Cleared|          9|         ABC8|\n|     10|2022-12-04 23:17:...|2022-12-05 01:17:...|      A10|      Amith|      45/6, Heritage St |   Amritsar|               Punjab|         India|                         null|           Delhi|                       NCR|              India|           311|      1647|  Completed|                   10|              Wallet|           Completed|         10|         ABC9|\n|     11|2022-12-05 01:17:...|2022-12-05 03:17:...|      A11|       Ajay|    34/6, Desikar Koi...|Kanchipuram|                   TN|         India|                         null|         Madurai|                        TN|              India|           347|        35|  Completed|                    5|                Cash|             Cleared|         11|        ABC10|\n|     12|2022-12-05 03:17:...|2022-12-05 05:17:...|      A12|      Nihal|    65-2, Halkal Junc...|      Udupi|                   KN|         India|                         null|       Bangalore|                        KN|              India|           219|      1565|  Completed|                    5|Credit/Online Ban...|Confirmation awai...|         12|        ABC11|\n|     13|2022-12-05 05:17:...|2022-12-05 07:17:...|      A13|    Saatvik|    26, Vishnupuri NX...|     Indore|                   MP|         India|                         null|          Bhopal|                        MP|              India|           190|      1548|  Completed|                    6|              Wallet|           Completed|         13|        ABC12|\n|     14|2022-12-05 07:17:...|2022-12-05 09:17:...|      A14|     Andrew|       6-56, Bhatar road|      Surat|                   MH|         India|                         null|            Pune|                        MH|              India|           126|      1597|  Completed|                   10|              Wallet|           Completed|         14|        ABC13|\n|     15|2022-12-05 09:17:...|2022-12-05 11:17:...|      A15|     Dinesh|    1/381c, Sivaji nagar|      Hosur|                   KN|         India|                         null|       Bangalore|                        KN|              India|           379|      1728|  Completed|                    4|                Cash|             Cleared|         15|        ABC14|\n|     16|2022-12-05 11:17:...|2022-12-05 13:17:...|      A16|    Stephen|      98, Shanmugam road|      Kochi|                   TN|         India|                         null|      Coimbatore|                        TN|              India|            60|      1845|  Completed|                    4|Credit/Online Ban...|Confirmation awai...|         16|        ABC15|\n|     17|2022-12-05 13:17:...|2022-12-05 15:17:...|      A17|     Steves|       45-6, Kovai Pudur| Coimbatore|                   TN|         India|                         null|           Salem|                        TN|              India|           337|      1424|  Completed|                    6|Credit/Online Ban...|Confirmation awai...|         17|        ABC16|\n|     18|2022-12-05 15:17:...|2022-12-05 17:17:...|      A18|      Akash|    67-23, Big temple...|   Tanjavor|                   TN|         India|                         null|          Trichy|                        TN|              India|           199|      1217|  Completed|                    3|Credit/Online Ban...|Confirmation awai...|         18|        ABC17|\n|     19|2022-12-05 17:17:...|2022-12-05 19:17:...|      A19|      Nihit|    23,4- PSG college...| Coimbatore|                   TN|         India|                         null|         Chennai|                        TN|              India|           131|      1597|  Completed|                    9|              Wallet|           Completed|         19|        ABC18|\n|     20|2022-12-05 19:17:...|2022-12-05 21:17:...|      A20|     Vishal|        8-3-53, MGR road|      Hosur|                   KN|         India|                         null|           Salem|                        TN|              India|           220|      1180|  Completed|                    8|              Wallet|           Completed|         20|        ABC19|\n+-------+--------------------+--------------------+---------+-----------+------------------------+-----------+---------------------+--------------+-----------------------------+----------------+--------------------------+-------------------+--------------+----------+-----------+---------------------+--------------------+--------------------+-----------+-------------+\nonly showing top 20 rows\n\n"
     ]
    }
   ],
   "source": [
    "df1.show()"
   ]
  },
  {
   "cell_type": "code",
   "execution_count": 0,
   "metadata": {
    "application/vnd.databricks.v1+cell": {
     "cellMetadata": {
      "byteLimit": 2048000,
      "rowLimit": 10000
     },
     "inputWidgets": {},
     "nuid": "0cf6945a-d6e5-4339-9235-5f7152c6da49",
     "showTitle": false,
     "tableResultSettingsMap": {},
     "title": ""
    }
   },
   "outputs": [],
   "source": [
    "df2=df1.select(\"trip_id\",\"trip_start_timestamp\",\"trip_end_timestamp\",\"trip_status\",\"total_fare\",\"total_distance\",\"delay_start_time_mins\",\"customer_id\",'driver_id')"
   ]
  },
  {
   "cell_type": "code",
   "execution_count": 0,
   "metadata": {
    "application/vnd.databricks.v1+cell": {
     "cellMetadata": {
      "byteLimit": 2048000,
      "rowLimit": 10000
     },
     "inputWidgets": {},
     "nuid": "afbb78d6-b5e6-4170-aaf5-73b10c703c75",
     "showTitle": false,
     "tableResultSettingsMap": {},
     "title": ""
    }
   },
   "outputs": [
    {
     "output_type": "stream",
     "name": "stdout",
     "output_type": "stream",
     "text": [
      "+-------+--------------------+--------------------+-----------+----------+--------------+---------------------+-----------+---------+\n|trip_id|trip_start_timestamp|  trip_end_timestamp|trip_status|total_fare|total_distance|delay_start_time_mins|customer_id|driver_id|\n+-------+--------------------+--------------------+-----------+----------+--------------+---------------------+-----------+---------+\n|      1| 2022-12-04 05:17:52| 2022-12-04 07:17:52|  Completed|         0|             0|                    0|          1|       A1|\n|      2|2022-12-04 07:17:...|2022-12-04 09:17:...|  Completed|      1949|           222|                    4|          2|       A2|\n|      3|2022-12-04 09:17:...|2022-12-04 11:17:...|  Completed|       722|           354|                    0|          3|       A3|\n|      4|2022-12-04 11:17:...|2022-12-04 13:17:...|  Completed|       627|           189|                    3|          4|       A4|\n|      5|2022-12-04 13:17:...|2022-12-04 15:17:...|  Completed|      1465|           305|                    0|          5|       A5|\n|      6|2022-12-04 15:17:...|2022-12-04 17:17:...|  Completed|      1050|           236|                   10|          6|       A6|\n|      7|2022-12-04 17:17:...|2022-12-04 19:17:...|  Completed|       457|           319|                    4|          7|       A7|\n|      8|2022-12-04 19:17:...|2022-12-04 21:17:...|  Completed|       116|           257|                   10|          8|       A8|\n|      9|2022-12-04 21:17:...|2022-12-04 23:17:...|  Completed|      1724|           286|                    1|          9|       A9|\n|     10|2022-12-04 23:17:...|2022-12-05 01:17:...|  Completed|      1647|           311|                   10|         10|      A10|\n|     11|2022-12-05 01:17:...|2022-12-05 03:17:...|  Completed|        35|           347|                    5|         11|      A11|\n|     12|2022-12-05 03:17:...|2022-12-05 05:17:...|  Completed|      1565|           219|                    5|         12|      A12|\n|     13|2022-12-05 05:17:...|2022-12-05 07:17:...|  Completed|      1548|           190|                    6|         13|      A13|\n|     14|2022-12-05 07:17:...|2022-12-05 09:17:...|  Completed|      1597|           126|                   10|         14|      A14|\n|     15|2022-12-05 09:17:...|2022-12-05 11:17:...|  Completed|      1728|           379|                    4|         15|      A15|\n|     16|2022-12-05 11:17:...|2022-12-05 13:17:...|  Completed|      1845|            60|                    4|         16|      A16|\n|     17|2022-12-05 13:17:...|2022-12-05 15:17:...|  Completed|      1424|           337|                    6|         17|      A17|\n|     18|2022-12-05 15:17:...|2022-12-05 17:17:...|  Completed|      1217|           199|                    3|         18|      A18|\n|     19|2022-12-05 17:17:...|2022-12-05 19:17:...|  Completed|      1597|           131|                    9|         19|      A19|\n|     20|2022-12-05 19:17:...|2022-12-05 21:17:...|  Completed|      1180|           220|                    8|         20|      A20|\n+-------+--------------------+--------------------+-----------+----------+--------------+---------------------+-----------+---------+\nonly showing top 20 rows\n\n"
     ]
    }
   ],
   "source": [
    "df2.show()"
   ]
  },
  {
   "cell_type": "code",
   "execution_count": 0,
   "metadata": {
    "application/vnd.databricks.v1+cell": {
     "cellMetadata": {
      "byteLimit": 2048000,
      "rowLimit": 10000
     },
     "inputWidgets": {},
     "nuid": "ce576ddb-a3c2-4a7f-a5b8-f89f9ea991f2",
     "showTitle": false,
     "tableResultSettingsMap": {},
     "title": ""
    }
   },
   "outputs": [],
   "source": [
    "df2=df2.withColumn(\"Trip_Date\",F.expr(\"to_date(trip_start_timestamp)\"))"
   ]
  },
  {
   "cell_type": "code",
   "execution_count": 0,
   "metadata": {
    "application/vnd.databricks.v1+cell": {
     "cellMetadata": {
      "byteLimit": 2048000,
      "rowLimit": 10000
     },
     "inputWidgets": {},
     "nuid": "eeb634eb-5ab3-4f5e-a1dd-a89b2cfa0dfa",
     "showTitle": false,
     "tableResultSettingsMap": {},
     "title": ""
    }
   },
   "outputs": [
    {
     "output_type": "stream",
     "name": "stdout",
     "output_type": "stream",
     "text": [
      "+-------+--------------------+--------------------+-----------+----------+--------------+---------------------+-----------+---------+----------+\n|trip_id|trip_start_timestamp|  trip_end_timestamp|trip_status|total_fare|total_distance|delay_start_time_mins|customer_id|driver_id| Trip_Date|\n+-------+--------------------+--------------------+-----------+----------+--------------+---------------------+-----------+---------+----------+\n|      1| 2022-12-04 05:17:52| 2022-12-04 07:17:52|  Completed|         0|             0|                    0|          1|       A1|2022-12-04|\n|      2|2022-12-04 07:17:...|2022-12-04 09:17:...|  Completed|      1949|           222|                    4|          2|       A2|2022-12-04|\n|      3|2022-12-04 09:17:...|2022-12-04 11:17:...|  Completed|       722|           354|                    0|          3|       A3|2022-12-04|\n|      4|2022-12-04 11:17:...|2022-12-04 13:17:...|  Completed|       627|           189|                    3|          4|       A4|2022-12-04|\n|      5|2022-12-04 13:17:...|2022-12-04 15:17:...|  Completed|      1465|           305|                    0|          5|       A5|2022-12-04|\n|      6|2022-12-04 15:17:...|2022-12-04 17:17:...|  Completed|      1050|           236|                   10|          6|       A6|2022-12-04|\n|      7|2022-12-04 17:17:...|2022-12-04 19:17:...|  Completed|       457|           319|                    4|          7|       A7|2022-12-04|\n|      8|2022-12-04 19:17:...|2022-12-04 21:17:...|  Completed|       116|           257|                   10|          8|       A8|2022-12-04|\n|      9|2022-12-04 21:17:...|2022-12-04 23:17:...|  Completed|      1724|           286|                    1|          9|       A9|2022-12-04|\n|     10|2022-12-04 23:17:...|2022-12-05 01:17:...|  Completed|      1647|           311|                   10|         10|      A10|2022-12-04|\n|     11|2022-12-05 01:17:...|2022-12-05 03:17:...|  Completed|        35|           347|                    5|         11|      A11|2022-12-05|\n|     12|2022-12-05 03:17:...|2022-12-05 05:17:...|  Completed|      1565|           219|                    5|         12|      A12|2022-12-05|\n|     13|2022-12-05 05:17:...|2022-12-05 07:17:...|  Completed|      1548|           190|                    6|         13|      A13|2022-12-05|\n|     14|2022-12-05 07:17:...|2022-12-05 09:17:...|  Completed|      1597|           126|                   10|         14|      A14|2022-12-05|\n|     15|2022-12-05 09:17:...|2022-12-05 11:17:...|  Completed|      1728|           379|                    4|         15|      A15|2022-12-05|\n|     16|2022-12-05 11:17:...|2022-12-05 13:17:...|  Completed|      1845|            60|                    4|         16|      A16|2022-12-05|\n|     17|2022-12-05 13:17:...|2022-12-05 15:17:...|  Completed|      1424|           337|                    6|         17|      A17|2022-12-05|\n|     18|2022-12-05 15:17:...|2022-12-05 17:17:...|  Completed|      1217|           199|                    3|         18|      A18|2022-12-05|\n|     19|2022-12-05 17:17:...|2022-12-05 19:17:...|  Completed|      1597|           131|                    9|         19|      A19|2022-12-05|\n|     20|2022-12-05 19:17:...|2022-12-05 21:17:...|  Completed|      1180|           220|                    8|         20|      A20|2022-12-05|\n+-------+--------------------+--------------------+-----------+----------+--------------+---------------------+-----------+---------+----------+\nonly showing top 20 rows\n\n"
     ]
    }
   ],
   "source": [
    "df2.show()"
   ]
  },
  {
   "cell_type": "code",
   "execution_count": 0,
   "metadata": {
    "application/vnd.databricks.v1+cell": {
     "cellMetadata": {
      "byteLimit": 2048000,
      "rowLimit": 10000
     },
     "inputWidgets": {},
     "nuid": "6c49e61e-67ca-4865-a7b5-ab44a07144ba",
     "showTitle": false,
     "tableResultSettingsMap": {},
     "title": ""
    }
   },
   "outputs": [],
   "source": [
    "file_path4 = \"silver_Zone/Trip_Transactions_Fact\""
   ]
  },
  {
   "cell_type": "code",
   "execution_count": 0,
   "metadata": {
    "application/vnd.databricks.v1+cell": {
     "cellMetadata": {
      "byteLimit": 2048000,
      "rowLimit": 10000
     },
     "inputWidgets": {},
     "nuid": "20f36d07-1af6-4a3c-bbce-8e1005f868ed",
     "showTitle": false,
     "tableResultSettingsMap": {},
     "title": ""
    }
   },
   "outputs": [
    {
     "output_type": "display_data",
     "data": {
      "text/plain": [
       "\u001B[0;31m---------------------------------------------------------------------------\u001B[0m\n",
       "\u001B[0;31mAnalysisException\u001B[0m                         Traceback (most recent call last)\n",
       "File \u001B[0;32m<command-1162326114157494>:1\u001B[0m\n",
       "\u001B[0;32m----> 1\u001B[0m \u001B[43mdf2\u001B[49m\u001B[38;5;241;43m.\u001B[39;49m\u001B[43mrepartition\u001B[49m\u001B[43m(\u001B[49m\u001B[38;5;241;43m1\u001B[39;49m\u001B[43m)\u001B[49m\u001B[38;5;241;43m.\u001B[39;49m\u001B[43mwrite\u001B[49m\u001B[38;5;241;43m.\u001B[39;49m\u001B[43mformat\u001B[49m\u001B[43m(\u001B[49m\u001B[38;5;124;43m\"\u001B[39;49m\u001B[38;5;124;43mdelta\u001B[39;49m\u001B[38;5;124;43m\"\u001B[39;49m\u001B[43m)\u001B[49m\u001B[38;5;241;43m.\u001B[39;49m\u001B[43msave\u001B[49m\u001B[43m(\u001B[49m\u001B[38;5;124;43mf\u001B[39;49m\u001B[38;5;124;43m\"\u001B[39;49m\u001B[38;5;124;43mabfss://\u001B[39;49m\u001B[38;5;132;43;01m{\u001B[39;49;00m\u001B[43mcontainer_name\u001B[49m\u001B[38;5;132;43;01m}\u001B[39;49;00m\u001B[38;5;124;43m@\u001B[39;49m\u001B[38;5;132;43;01m{\u001B[39;49;00m\u001B[43mstorage_account_name\u001B[49m\u001B[38;5;132;43;01m}\u001B[39;49;00m\u001B[38;5;124;43m.dfs.core.windows.net/\u001B[39;49m\u001B[38;5;132;43;01m{\u001B[39;49;00m\u001B[43mfile_path4\u001B[49m\u001B[38;5;132;43;01m}\u001B[39;49;00m\u001B[38;5;124;43m\"\u001B[39;49m\u001B[43m)\u001B[49m\n",
       "\n",
       "File \u001B[0;32m/databricks/spark/python/pyspark/instrumentation_utils.py:48\u001B[0m, in \u001B[0;36m_wrap_function.<locals>.wrapper\u001B[0;34m(*args, **kwargs)\u001B[0m\n",
       "\u001B[1;32m     46\u001B[0m start \u001B[38;5;241m=\u001B[39m time\u001B[38;5;241m.\u001B[39mperf_counter()\n",
       "\u001B[1;32m     47\u001B[0m \u001B[38;5;28;01mtry\u001B[39;00m:\n",
       "\u001B[0;32m---> 48\u001B[0m     res \u001B[38;5;241m=\u001B[39m \u001B[43mfunc\u001B[49m\u001B[43m(\u001B[49m\u001B[38;5;241;43m*\u001B[39;49m\u001B[43margs\u001B[49m\u001B[43m,\u001B[49m\u001B[43m \u001B[49m\u001B[38;5;241;43m*\u001B[39;49m\u001B[38;5;241;43m*\u001B[39;49m\u001B[43mkwargs\u001B[49m\u001B[43m)\u001B[49m\n",
       "\u001B[1;32m     49\u001B[0m     logger\u001B[38;5;241m.\u001B[39mlog_success(\n",
       "\u001B[1;32m     50\u001B[0m         module_name, class_name, function_name, time\u001B[38;5;241m.\u001B[39mperf_counter() \u001B[38;5;241m-\u001B[39m start, signature\n",
       "\u001B[1;32m     51\u001B[0m     )\n",
       "\u001B[1;32m     52\u001B[0m     \u001B[38;5;28;01mreturn\u001B[39;00m res\n",
       "\n",
       "File \u001B[0;32m/databricks/spark/python/pyspark/sql/readwriter.py:1397\u001B[0m, in \u001B[0;36mDataFrameWriter.save\u001B[0;34m(self, path, format, mode, partitionBy, **options)\u001B[0m\n",
       "\u001B[1;32m   1395\u001B[0m     \u001B[38;5;28mself\u001B[39m\u001B[38;5;241m.\u001B[39m_jwrite\u001B[38;5;241m.\u001B[39msave()\n",
       "\u001B[1;32m   1396\u001B[0m \u001B[38;5;28;01melse\u001B[39;00m:\n",
       "\u001B[0;32m-> 1397\u001B[0m     \u001B[38;5;28;43mself\u001B[39;49m\u001B[38;5;241;43m.\u001B[39;49m\u001B[43m_jwrite\u001B[49m\u001B[38;5;241;43m.\u001B[39;49m\u001B[43msave\u001B[49m\u001B[43m(\u001B[49m\u001B[43mpath\u001B[49m\u001B[43m)\u001B[49m\n",
       "\n",
       "File \u001B[0;32m/databricks/spark/python/lib/py4j-0.10.9.5-src.zip/py4j/java_gateway.py:1321\u001B[0m, in \u001B[0;36mJavaMember.__call__\u001B[0;34m(self, *args)\u001B[0m\n",
       "\u001B[1;32m   1315\u001B[0m command \u001B[38;5;241m=\u001B[39m proto\u001B[38;5;241m.\u001B[39mCALL_COMMAND_NAME \u001B[38;5;241m+\u001B[39m\\\n",
       "\u001B[1;32m   1316\u001B[0m     \u001B[38;5;28mself\u001B[39m\u001B[38;5;241m.\u001B[39mcommand_header \u001B[38;5;241m+\u001B[39m\\\n",
       "\u001B[1;32m   1317\u001B[0m     args_command \u001B[38;5;241m+\u001B[39m\\\n",
       "\u001B[1;32m   1318\u001B[0m     proto\u001B[38;5;241m.\u001B[39mEND_COMMAND_PART\n",
       "\u001B[1;32m   1320\u001B[0m answer \u001B[38;5;241m=\u001B[39m \u001B[38;5;28mself\u001B[39m\u001B[38;5;241m.\u001B[39mgateway_client\u001B[38;5;241m.\u001B[39msend_command(command)\n",
       "\u001B[0;32m-> 1321\u001B[0m return_value \u001B[38;5;241m=\u001B[39m \u001B[43mget_return_value\u001B[49m\u001B[43m(\u001B[49m\n",
       "\u001B[1;32m   1322\u001B[0m \u001B[43m    \u001B[49m\u001B[43manswer\u001B[49m\u001B[43m,\u001B[49m\u001B[43m \u001B[49m\u001B[38;5;28;43mself\u001B[39;49m\u001B[38;5;241;43m.\u001B[39;49m\u001B[43mgateway_client\u001B[49m\u001B[43m,\u001B[49m\u001B[43m \u001B[49m\u001B[38;5;28;43mself\u001B[39;49m\u001B[38;5;241;43m.\u001B[39;49m\u001B[43mtarget_id\u001B[49m\u001B[43m,\u001B[49m\u001B[43m \u001B[49m\u001B[38;5;28;43mself\u001B[39;49m\u001B[38;5;241;43m.\u001B[39;49m\u001B[43mname\u001B[49m\u001B[43m)\u001B[49m\n",
       "\u001B[1;32m   1324\u001B[0m \u001B[38;5;28;01mfor\u001B[39;00m temp_arg \u001B[38;5;129;01min\u001B[39;00m temp_args:\n",
       "\u001B[1;32m   1325\u001B[0m     temp_arg\u001B[38;5;241m.\u001B[39m_detach()\n",
       "\n",
       "File \u001B[0;32m/databricks/spark/python/pyspark/errors/exceptions.py:234\u001B[0m, in \u001B[0;36mcapture_sql_exception.<locals>.deco\u001B[0;34m(*a, **kw)\u001B[0m\n",
       "\u001B[1;32m    230\u001B[0m converted \u001B[38;5;241m=\u001B[39m convert_exception(e\u001B[38;5;241m.\u001B[39mjava_exception)\n",
       "\u001B[1;32m    231\u001B[0m \u001B[38;5;28;01mif\u001B[39;00m \u001B[38;5;129;01mnot\u001B[39;00m \u001B[38;5;28misinstance\u001B[39m(converted, UnknownException):\n",
       "\u001B[1;32m    232\u001B[0m     \u001B[38;5;66;03m# Hide where the exception came from that shows a non-Pythonic\u001B[39;00m\n",
       "\u001B[1;32m    233\u001B[0m     \u001B[38;5;66;03m# JVM exception message.\u001B[39;00m\n",
       "\u001B[0;32m--> 234\u001B[0m     \u001B[38;5;28;01mraise\u001B[39;00m converted \u001B[38;5;28;01mfrom\u001B[39;00m \u001B[38;5;28mNone\u001B[39m\n",
       "\u001B[1;32m    235\u001B[0m \u001B[38;5;28;01melse\u001B[39;00m:\n",
       "\u001B[1;32m    236\u001B[0m     \u001B[38;5;28;01mraise\u001B[39;00m\n",
       "\n",
       "\u001B[0;31mAnalysisException\u001B[0m: Cannot write to already existent path abfss://deltalake@storageaccounttemp12.dfs.core.windows.net/silver_Zone/Trip_Transactions_Fact without setting OVERWRITE = 'true'."
      ]
     },
     "metadata": {
      "application/vnd.databricks.v1+output": {
       "arguments": {},
       "data": "\u001B[0;31m---------------------------------------------------------------------------\u001B[0m\n\u001B[0;31mAnalysisException\u001B[0m                         Traceback (most recent call last)\nFile \u001B[0;32m<command-1162326114157494>:1\u001B[0m\n\u001B[0;32m----> 1\u001B[0m \u001B[43mdf2\u001B[49m\u001B[38;5;241;43m.\u001B[39;49m\u001B[43mrepartition\u001B[49m\u001B[43m(\u001B[49m\u001B[38;5;241;43m1\u001B[39;49m\u001B[43m)\u001B[49m\u001B[38;5;241;43m.\u001B[39;49m\u001B[43mwrite\u001B[49m\u001B[38;5;241;43m.\u001B[39;49m\u001B[43mformat\u001B[49m\u001B[43m(\u001B[49m\u001B[38;5;124;43m\"\u001B[39;49m\u001B[38;5;124;43mdelta\u001B[39;49m\u001B[38;5;124;43m\"\u001B[39;49m\u001B[43m)\u001B[49m\u001B[38;5;241;43m.\u001B[39;49m\u001B[43msave\u001B[49m\u001B[43m(\u001B[49m\u001B[38;5;124;43mf\u001B[39;49m\u001B[38;5;124;43m\"\u001B[39;49m\u001B[38;5;124;43mabfss://\u001B[39;49m\u001B[38;5;132;43;01m{\u001B[39;49;00m\u001B[43mcontainer_name\u001B[49m\u001B[38;5;132;43;01m}\u001B[39;49;00m\u001B[38;5;124;43m@\u001B[39;49m\u001B[38;5;132;43;01m{\u001B[39;49;00m\u001B[43mstorage_account_name\u001B[49m\u001B[38;5;132;43;01m}\u001B[39;49;00m\u001B[38;5;124;43m.dfs.core.windows.net/\u001B[39;49m\u001B[38;5;132;43;01m{\u001B[39;49;00m\u001B[43mfile_path4\u001B[49m\u001B[38;5;132;43;01m}\u001B[39;49;00m\u001B[38;5;124;43m\"\u001B[39;49m\u001B[43m)\u001B[49m\n\nFile \u001B[0;32m/databricks/spark/python/pyspark/instrumentation_utils.py:48\u001B[0m, in \u001B[0;36m_wrap_function.<locals>.wrapper\u001B[0;34m(*args, **kwargs)\u001B[0m\n\u001B[1;32m     46\u001B[0m start \u001B[38;5;241m=\u001B[39m time\u001B[38;5;241m.\u001B[39mperf_counter()\n\u001B[1;32m     47\u001B[0m \u001B[38;5;28;01mtry\u001B[39;00m:\n\u001B[0;32m---> 48\u001B[0m     res \u001B[38;5;241m=\u001B[39m \u001B[43mfunc\u001B[49m\u001B[43m(\u001B[49m\u001B[38;5;241;43m*\u001B[39;49m\u001B[43margs\u001B[49m\u001B[43m,\u001B[49m\u001B[43m \u001B[49m\u001B[38;5;241;43m*\u001B[39;49m\u001B[38;5;241;43m*\u001B[39;49m\u001B[43mkwargs\u001B[49m\u001B[43m)\u001B[49m\n\u001B[1;32m     49\u001B[0m     logger\u001B[38;5;241m.\u001B[39mlog_success(\n\u001B[1;32m     50\u001B[0m         module_name, class_name, function_name, time\u001B[38;5;241m.\u001B[39mperf_counter() \u001B[38;5;241m-\u001B[39m start, signature\n\u001B[1;32m     51\u001B[0m     )\n\u001B[1;32m     52\u001B[0m     \u001B[38;5;28;01mreturn\u001B[39;00m res\n\nFile \u001B[0;32m/databricks/spark/python/pyspark/sql/readwriter.py:1397\u001B[0m, in \u001B[0;36mDataFrameWriter.save\u001B[0;34m(self, path, format, mode, partitionBy, **options)\u001B[0m\n\u001B[1;32m   1395\u001B[0m     \u001B[38;5;28mself\u001B[39m\u001B[38;5;241m.\u001B[39m_jwrite\u001B[38;5;241m.\u001B[39msave()\n\u001B[1;32m   1396\u001B[0m \u001B[38;5;28;01melse\u001B[39;00m:\n\u001B[0;32m-> 1397\u001B[0m     \u001B[38;5;28;43mself\u001B[39;49m\u001B[38;5;241;43m.\u001B[39;49m\u001B[43m_jwrite\u001B[49m\u001B[38;5;241;43m.\u001B[39;49m\u001B[43msave\u001B[49m\u001B[43m(\u001B[49m\u001B[43mpath\u001B[49m\u001B[43m)\u001B[49m\n\nFile \u001B[0;32m/databricks/spark/python/lib/py4j-0.10.9.5-src.zip/py4j/java_gateway.py:1321\u001B[0m, in \u001B[0;36mJavaMember.__call__\u001B[0;34m(self, *args)\u001B[0m\n\u001B[1;32m   1315\u001B[0m command \u001B[38;5;241m=\u001B[39m proto\u001B[38;5;241m.\u001B[39mCALL_COMMAND_NAME \u001B[38;5;241m+\u001B[39m\\\n\u001B[1;32m   1316\u001B[0m     \u001B[38;5;28mself\u001B[39m\u001B[38;5;241m.\u001B[39mcommand_header \u001B[38;5;241m+\u001B[39m\\\n\u001B[1;32m   1317\u001B[0m     args_command \u001B[38;5;241m+\u001B[39m\\\n\u001B[1;32m   1318\u001B[0m     proto\u001B[38;5;241m.\u001B[39mEND_COMMAND_PART\n\u001B[1;32m   1320\u001B[0m answer \u001B[38;5;241m=\u001B[39m \u001B[38;5;28mself\u001B[39m\u001B[38;5;241m.\u001B[39mgateway_client\u001B[38;5;241m.\u001B[39msend_command(command)\n\u001B[0;32m-> 1321\u001B[0m return_value \u001B[38;5;241m=\u001B[39m \u001B[43mget_return_value\u001B[49m\u001B[43m(\u001B[49m\n\u001B[1;32m   1322\u001B[0m \u001B[43m    \u001B[49m\u001B[43manswer\u001B[49m\u001B[43m,\u001B[49m\u001B[43m \u001B[49m\u001B[38;5;28;43mself\u001B[39;49m\u001B[38;5;241;43m.\u001B[39;49m\u001B[43mgateway_client\u001B[49m\u001B[43m,\u001B[49m\u001B[43m \u001B[49m\u001B[38;5;28;43mself\u001B[39;49m\u001B[38;5;241;43m.\u001B[39;49m\u001B[43mtarget_id\u001B[49m\u001B[43m,\u001B[49m\u001B[43m \u001B[49m\u001B[38;5;28;43mself\u001B[39;49m\u001B[38;5;241;43m.\u001B[39;49m\u001B[43mname\u001B[49m\u001B[43m)\u001B[49m\n\u001B[1;32m   1324\u001B[0m \u001B[38;5;28;01mfor\u001B[39;00m temp_arg \u001B[38;5;129;01min\u001B[39;00m temp_args:\n\u001B[1;32m   1325\u001B[0m     temp_arg\u001B[38;5;241m.\u001B[39m_detach()\n\nFile \u001B[0;32m/databricks/spark/python/pyspark/errors/exceptions.py:234\u001B[0m, in \u001B[0;36mcapture_sql_exception.<locals>.deco\u001B[0;34m(*a, **kw)\u001B[0m\n\u001B[1;32m    230\u001B[0m converted \u001B[38;5;241m=\u001B[39m convert_exception(e\u001B[38;5;241m.\u001B[39mjava_exception)\n\u001B[1;32m    231\u001B[0m \u001B[38;5;28;01mif\u001B[39;00m \u001B[38;5;129;01mnot\u001B[39;00m \u001B[38;5;28misinstance\u001B[39m(converted, UnknownException):\n\u001B[1;32m    232\u001B[0m     \u001B[38;5;66;03m# Hide where the exception came from that shows a non-Pythonic\u001B[39;00m\n\u001B[1;32m    233\u001B[0m     \u001B[38;5;66;03m# JVM exception message.\u001B[39;00m\n\u001B[0;32m--> 234\u001B[0m     \u001B[38;5;28;01mraise\u001B[39;00m converted \u001B[38;5;28;01mfrom\u001B[39;00m \u001B[38;5;28mNone\u001B[39m\n\u001B[1;32m    235\u001B[0m \u001B[38;5;28;01melse\u001B[39;00m:\n\u001B[1;32m    236\u001B[0m     \u001B[38;5;28;01mraise\u001B[39;00m\n\n\u001B[0;31mAnalysisException\u001B[0m: Cannot write to already existent path abfss://deltalake@storageaccounttemp12.dfs.core.windows.net/silver_Zone/Trip_Transactions_Fact without setting OVERWRITE = 'true'.",
       "errorSummary": "<span class='ansi-red-fg'>AnalysisException</span>: Cannot write to already existent path abfss://deltalake@storageaccounttemp12.dfs.core.windows.net/silver_Zone/Trip_Transactions_Fact without setting OVERWRITE = 'true'.",
       "errorTraceType": "ansi",
       "metadata": {},
       "type": "ipynbError"
      }
     },
     "output_type": "display_data"
    }
   ],
   "source": [
    "df2.repartition(1).write.format(\"delta\").save(f\"abfss://{container_name}@{storage_account_name}.dfs.core.windows.net/{file_path4}\")\n"
   ]
  },
  {
   "cell_type": "markdown",
   "metadata": {
    "application/vnd.databricks.v1+cell": {
     "cellMetadata": {},
     "inputWidgets": {},
     "nuid": "2feb4351-069a-4b13-a09c-52b0032436c3",
     "showTitle": false,
     "tableResultSettingsMap": {},
     "title": ""
    }
   },
   "source": [
    "#Incremental loads"
   ]
  },
  {
   "cell_type": "code",
   "execution_count": 0,
   "metadata": {
    "application/vnd.databricks.v1+cell": {
     "cellMetadata": {
      "byteLimit": 2048000,
      "rowLimit": 10000
     },
     "inputWidgets": {},
     "nuid": "76d80290-44fc-4a4e-94e2-02c9a394ba34",
     "showTitle": false,
     "tableResultSettingsMap": {},
     "title": ""
    }
   },
   "outputs": [],
   "source": [
    "df_upsert=spark.read.load(f\"abfss://{container_name}@{storage_account_name}.dfs.core.windows.net/{file_path1}\")\n",
    "df_upsert=df_upsert.withColumn(\"trip_Date\",F.expr(\"to_date(trip_start_timestamp)\"))\n",
    "df_upsert=df_upsert.filter(df_upsert.trip_Date>=F.expr(\"Current_date-2\"))\n",
    "df_upsert=df_upsert.select(\"trip_id\",\"trip_start_timestamp\",\"trip_end_timestamp\",\"trip_status\",\"total_fare\",\"total_distance\",\"delay_start_time_mins\",\"customer_id\",\"driver_id\",\"trip_date\")"
   ]
  },
  {
   "cell_type": "code",
   "execution_count": 0,
   "metadata": {
    "application/vnd.databricks.v1+cell": {
     "cellMetadata": {
      "byteLimit": 2048000,
      "rowLimit": 10000
     },
     "inputWidgets": {},
     "nuid": "bdc2d0c2-db6c-4502-a1ee-3d80fd92f247",
     "showTitle": false,
     "tableResultSettingsMap": {},
     "title": ""
    }
   },
   "outputs": [
    {
     "output_type": "stream",
     "name": "stdout",
     "output_type": "stream",
     "text": [
      "+-------+--------------------+------------------+-----------+----------+--------------+---------------------+-----------+---------+---------+\n|trip_id|trip_start_timestamp|trip_end_timestamp|trip_status|total_fare|total_distance|delay_start_time_mins|customer_id|driver_id|trip_date|\n+-------+--------------------+------------------+-----------+----------+--------------+---------------------+-----------+---------+---------+\n+-------+--------------------+------------------+-----------+----------+--------------+---------------------+-----------+---------+---------+\n\n"
     ]
    }
   ],
   "source": [
    "df_upsert.show(10)"
   ]
  },
  {
   "cell_type": "code",
   "execution_count": 0,
   "metadata": {
    "application/vnd.databricks.v1+cell": {
     "cellMetadata": {
      "byteLimit": 2048000,
      "rowLimit": 10000
     },
     "inputWidgets": {},
     "nuid": "b8a8611d-ec12-4911-b4d9-556e2ee89ab0",
     "showTitle": false,
     "tableResultSettingsMap": {},
     "title": ""
    }
   },
   "outputs": [],
   "source": [
    "deltaTable = DeltaTable.forPath(spark, f\"abfss://{container_name}@{storage_account_name}.dfs.core.windows.net/{file_path4}\")"
   ]
  },
  {
   "cell_type": "code",
   "execution_count": 0,
   "metadata": {
    "application/vnd.databricks.v1+cell": {
     "cellMetadata": {
      "byteLimit": 2048000,
      "rowLimit": 10000
     },
     "inputWidgets": {},
     "nuid": "a8e7a67f-1c16-46b7-a4f0-75749c2bd668",
     "showTitle": false,
     "tableResultSettingsMap": {},
     "title": ""
    }
   },
   "outputs": [],
   "source": [
    "deltaTable.alias(\"trip_transactions_base\").merge(\n",
    "              source = df_upsert.alias(\"updates\"),\n",
    "              condition = \"trip_transactions_base.trip_id = updates.trip_id\"\n",
    "            ).whenMatchedUpdateAll().whenNotMatchedInsertAll().execute()"
   ]
  },
  {
   "cell_type": "code",
   "execution_count": 0,
   "metadata": {
    "application/vnd.databricks.v1+cell": {
     "cellMetadata": {
      "byteLimit": 2048000,
      "rowLimit": 10000
     },
     "inputWidgets": {},
     "nuid": "2524645b-b84e-4049-b6e4-26a0ac2f086b",
     "showTitle": false,
     "tableResultSettingsMap": {},
     "title": ""
    }
   },
   "outputs": [
    {
     "output_type": "stream",
     "name": "stdout",
     "output_type": "stream",
     "text": [
      "Result: 2005\n"
     ]
    }
   ],
   "source": [
    "post_merge_count = deltaTable.toDF().count()\n",
    "print(f\"Result: {post_merge_count}\")"
   ]
  },
  {
   "cell_type": "code",
   "execution_count": 0,
   "metadata": {
    "application/vnd.databricks.v1+cell": {
     "cellMetadata": {
      "byteLimit": 2048000,
      "rowLimit": 10000
     },
     "inputWidgets": {},
     "nuid": "e9d409e6-6a73-4dda-be27-8e0209987426",
     "showTitle": false,
     "tableResultSettingsMap": {},
     "title": ""
    }
   },
   "outputs": [
    {
     "output_type": "stream",
     "name": "stdout",
     "output_type": "stream",
     "text": [
      "Out[23]: DataFrame[Trip_Date: date]"
     ]
    }
   ],
   "source": [
    "spark.read.load(f\"abfss://{container_name}@{storage_account_name}.dfs.core.windows.net/{file_path4}\").select(\"Trip_Date\")"
   ]
  }
 ],
 "metadata": {
  "application/vnd.databricks.v1+notebook": {
   "computePreferences": null,
   "dashboards": [],
   "environmentMetadata": null,
   "language": "python",
   "notebookMetadata": {
    "pythonIndentUnit": 4
   },
   "notebookName": "trip_transacation_fact",
   "widgets": {}
  }
 },
 "nbformat": 4,
 "nbformat_minor": 0
}
