{
 "cells": [
  {
   "cell_type": "markdown",
   "metadata": {
    "application/vnd.databricks.v1+cell": {
     "cellMetadata": {},
     "inputWidgets": {},
     "nuid": "7755808f-f579-4332-9da3-4eaa2a6093eb",
     "showTitle": true,
     "tableResultSettingsMap": {},
     "title": ""
    }
   },
   "source": [
    "# Create Driver Dimension"
   ]
  },
  {
   "cell_type": "code",
   "execution_count": 0,
   "metadata": {
    "application/vnd.databricks.v1+cell": {
     "cellMetadata": {
      "byteLimit": 2048000,
      "rowLimit": 10000
     },
     "inputWidgets": {},
     "nuid": "b017b846-82df-4a5c-8f5e-ad7d6612fb80",
     "showTitle": false,
     "tableResultSettingsMap": {},
     "title": ""
    }
   },
   "outputs": [],
   "source": [
    "import pyspark.sql.functions as F\n",
    "from random import randint\n",
    "from pyspark.sql.types import * "
   ]
  },
  {
   "cell_type": "code",
   "execution_count": 0,
   "metadata": {
    "application/vnd.databricks.v1+cell": {
     "cellMetadata": {
      "byteLimit": 2048000,
      "rowLimit": 10000
     },
     "inputWidgets": {},
     "nuid": "851bb996-a479-4199-9214-68c272b9cde6",
     "showTitle": false,
     "tableResultSettingsMap": {},
     "title": ""
    }
   },
   "outputs": [],
   "source": [
    "# Azure Blob Storage details\n",
    "storage_account_name = \"<storage-account-name>\"\n",
    "storage_account_key = \"<storage-account-access-key>\"\n",
    "container_name = \"deltalake\"\n",
    "file_path1 = \"bronze/Trip_Transactions\"\n",
    "file_path2 = \"bronze/Rewards_Points\""
   ]
  },
  {
   "cell_type": "code",
   "execution_count": 0,
   "metadata": {
    "application/vnd.databricks.v1+cell": {
     "cellMetadata": {
      "byteLimit": 2048000,
      "rowLimit": 10000
     },
     "inputWidgets": {},
     "nuid": "11faff81-8244-4986-8a86-bfae654c4522",
     "showTitle": false,
     "tableResultSettingsMap": {},
     "title": ""
    }
   },
   "outputs": [],
   "source": [
    "spark.conf.set(f\"fs.azure.account.key.{storage_account_name}.dfs.core.windows.net\", storage_account_key)"
   ]
  },
  {
   "cell_type": "code",
   "execution_count": 0,
   "metadata": {
    "application/vnd.databricks.v1+cell": {
     "cellMetadata": {
      "byteLimit": 2048000,
      "rowLimit": 10000
     },
     "inputWidgets": {},
     "nuid": "4ca9700e-f69d-4a61-a169-892a4a4535f7",
     "showTitle": false,
     "tableResultSettingsMap": {},
     "title": ""
    }
   },
   "outputs": [],
   "source": [
    "df1=spark.read.format(\"delta\").load(f\"abfss://{container_name}@{storage_account_name}.dfs.core.windows.net/{file_path1}\")"
   ]
  },
  {
   "cell_type": "code",
   "execution_count": 0,
   "metadata": {
    "application/vnd.databricks.v1+cell": {
     "cellMetadata": {
      "byteLimit": 2048000,
      "rowLimit": 10000
     },
     "inputWidgets": {},
     "nuid": "4a4ce7f4-77a6-4740-8e65-feaac76fcf03",
     "showTitle": false,
     "tableResultSettingsMap": {},
     "title": ""
    }
   },
   "outputs": [
    {
     "output_type": "stream",
     "name": "stdout",
     "output_type": "stream",
     "text": [
      "+-------+--------------------+--------------------+---------+-----------+------------------------+-----------+---------------------+--------------+-----------------------------+----------------+--------------------------+-------------------+--------------+----------+-----------+---------------------+--------------------+--------------------+-----------+-------------+\n|trip_id|trip_start_timestamp|  trip_end_timestamp|driver_id|driver_name|source_location_address1|source_city|source_province_state|source_country|destination_location_address1|destination_city|destination_province_state|destination_country|total_distance|total_fare|trip_status|delay_start_time_mins|      payment_method|      payment_Status|customer_id|customer_name|\n+-------+--------------------+--------------------+---------+-----------+------------------------+-----------+---------------------+--------------+-----------------------------+----------------+--------------------------+-------------------+--------------+----------+-----------+---------------------+--------------------+--------------------+-----------+-------------+\n|      1| 2022-12-04 05:17:52| 2022-12-04 07:17:52|       A1|        Ram|     21/3, Jubliee hills|  Hyderabad|                   TS|         India|                         null|      Vijayawada|                        AP|              India|             0|         0|  Completed|                    0|                Cash|             Cleared|          1|         ABC0|\n|      2|2022-12-04 07:17:...|2022-12-04 09:17:...|       A2|        Sam|     172/4, Gandhi nagar|      Delhi|                  NCR|         India|                         null|            Agra|                        UP|              India|           222|      1949|  Completed|                    4|Credit/Online Ban...|Confirmation awai...|          2|         ABC1|\n|      3|2022-12-04 09:17:...|2022-12-04 11:17:...|       A3|      Kevin|         9/3-12, T-nagar|    Chennai|                   TN|         India|                         null|           Salem|                        TN|              India|           354|       722|  Completed|                    0|              Wallet|           Completed|          3|         ABC2|\n|      4|2022-12-04 11:17:...|2022-12-04 13:17:...|       A4|    Aaditya|      10/3, Madurai main|    Madurai|                   TN|         India|                         null|          Trichy|                        TN|              India|           189|       627|  Completed|                    3|                Cash|             Cleared|          4|         ABC3|\n|      5|2022-12-04 13:17:...|2022-12-04 15:17:...|       A5|      Sagar|    6/4, Malleshwaram...|  Bangalore|                   KN|         India|                         null|         Chennai|                        TN|              India|           305|      1465|  Completed|                    0|Credit/Online Ban...|Confirmation awai...|          5|         ABC4|\n|      6|2022-12-04 15:17:...|2022-12-04 17:17:...|       A6|      David|      57/3, Kanjata road|       Agra|                   UP|         India|                         null|         Kolkata|                        WB|              India|           236|      1050|  Completed|                   10|Credit/Online Ban...|Confirmation awai...|          6|         ABC5|\n|      7|2022-12-04 17:17:...|2022-12-04 19:17:...|       A7|     Nivaan|      18/4-1, Lodhi road|     Delhi |                  NCR|         India|                         null|          Mumbai|                        MH|              India|           319|       457|  Completed|                    4|                Cash|             Cleared|          7|         ABC6|\n|      8|2022-12-04 19:17:...|2022-12-04 21:17:...|       A8|      Aarav|     21/3, Jubliee hills|  Hyderabad|                   TS|         India|                         null|       Tirupathi|                        AP|              India|           257|       116|  Completed|                   10|              Wallet|           Completed|          8|         ABC7|\n|      9|2022-12-04 21:17:...|2022-12-04 23:17:...|       A9|      Sadru|     2/4,6, airport road|    Chennai|                   TN|         India|                         null|        Tanjavur|                        TN|              India|           286|      1724|  Completed|                    1|                Cash|             Cleared|          9|         ABC8|\n|     10|2022-12-04 23:17:...|2022-12-05 01:17:...|      A10|      Amith|      45/6, Heritage St |   Amritsar|               Punjab|         India|                         null|           Delhi|                       NCR|              India|           311|      1647|  Completed|                   10|              Wallet|           Completed|         10|         ABC9|\n|     11|2022-12-05 01:17:...|2022-12-05 03:17:...|      A11|       Ajay|    34/6, Desikar Koi...|Kanchipuram|                   TN|         India|                         null|         Madurai|                        TN|              India|           347|        35|  Completed|                    5|                Cash|             Cleared|         11|        ABC10|\n|     12|2022-12-05 03:17:...|2022-12-05 05:17:...|      A12|      Nihal|    65-2, Halkal Junc...|      Udupi|                   KN|         India|                         null|       Bangalore|                        KN|              India|           219|      1565|  Completed|                    5|Credit/Online Ban...|Confirmation awai...|         12|        ABC11|\n|     13|2022-12-05 05:17:...|2022-12-05 07:17:...|      A13|    Saatvik|    26, Vishnupuri NX...|     Indore|                   MP|         India|                         null|          Bhopal|                        MP|              India|           190|      1548|  Completed|                    6|              Wallet|           Completed|         13|        ABC12|\n|     14|2022-12-05 07:17:...|2022-12-05 09:17:...|      A14|     Andrew|       6-56, Bhatar road|      Surat|                   MH|         India|                         null|            Pune|                        MH|              India|           126|      1597|  Completed|                   10|              Wallet|           Completed|         14|        ABC13|\n|     15|2022-12-05 09:17:...|2022-12-05 11:17:...|      A15|     Dinesh|    1/381c, Sivaji nagar|      Hosur|                   KN|         India|                         null|       Bangalore|                        KN|              India|           379|      1728|  Completed|                    4|                Cash|             Cleared|         15|        ABC14|\n|     16|2022-12-05 11:17:...|2022-12-05 13:17:...|      A16|    Stephen|      98, Shanmugam road|      Kochi|                   TN|         India|                         null|      Coimbatore|                        TN|              India|            60|      1845|  Completed|                    4|Credit/Online Ban...|Confirmation awai...|         16|        ABC15|\n|     17|2022-12-05 13:17:...|2022-12-05 15:17:...|      A17|     Steves|       45-6, Kovai Pudur| Coimbatore|                   TN|         India|                         null|           Salem|                        TN|              India|           337|      1424|  Completed|                    6|Credit/Online Ban...|Confirmation awai...|         17|        ABC16|\n|     18|2022-12-05 15:17:...|2022-12-05 17:17:...|      A18|      Akash|    67-23, Big temple...|   Tanjavor|                   TN|         India|                         null|          Trichy|                        TN|              India|           199|      1217|  Completed|                    3|Credit/Online Ban...|Confirmation awai...|         18|        ABC17|\n|     19|2022-12-05 17:17:...|2022-12-05 19:17:...|      A19|      Nihit|    23,4- PSG college...| Coimbatore|                   TN|         India|                         null|         Chennai|                        TN|              India|           131|      1597|  Completed|                    9|              Wallet|           Completed|         19|        ABC18|\n|     20|2022-12-05 19:17:...|2022-12-05 21:17:...|      A20|     Vishal|        8-3-53, MGR road|      Hosur|                   KN|         India|                         null|           Salem|                        TN|              India|           220|      1180|  Completed|                    8|              Wallet|           Completed|         20|        ABC19|\n+-------+--------------------+--------------------+---------+-----------+------------------------+-----------+---------------------+--------------+-----------------------------+----------------+--------------------------+-------------------+--------------+----------+-----------+---------------------+--------------------+--------------------+-----------+-------------+\nonly showing top 20 rows\n\n"
     ]
    }
   ],
   "source": [
    "df1.show()"
   ]
  },
  {
   "cell_type": "code",
   "execution_count": 0,
   "metadata": {
    "application/vnd.databricks.v1+cell": {
     "cellMetadata": {
      "byteLimit": 2048000,
      "rowLimit": 10000
     },
     "inputWidgets": {},
     "nuid": "187d6547-803f-4695-bb3d-d4788ce44c78",
     "showTitle": false,
     "tableResultSettingsMap": {},
     "title": ""
    }
   },
   "outputs": [],
   "source": [
    "df1.createOrReplaceTempView(\"df1\") "
   ]
  },
  {
   "cell_type": "code",
   "execution_count": 0,
   "metadata": {
    "application/vnd.databricks.v1+cell": {
     "cellMetadata": {
      "byteLimit": 2048000,
      "implicitDf": true,
      "rowLimit": 10000
     },
     "inputWidgets": {},
     "nuid": "dc818d55-0d85-4e2b-a337-a75baebdc5a5",
     "showTitle": false,
     "tableResultSettingsMap": {},
     "title": ""
    }
   },
   "outputs": [],
   "source": [
    "df2=spark.sql('select distinct driver_id,driver_name from df1')"
   ]
  },
  {
   "cell_type": "code",
   "execution_count": 0,
   "metadata": {
    "application/vnd.databricks.v1+cell": {
     "cellMetadata": {
      "byteLimit": 2048000,
      "rowLimit": 10000
     },
     "inputWidgets": {},
     "nuid": "e0b71f57-4241-4e69-9888-75d88bb8b967",
     "showTitle": false,
     "tableResultSettingsMap": {},
     "title": ""
    }
   },
   "outputs": [],
   "source": [
    "def driver_age(driver_id):\n",
    "    return randint(18,65)\n",
    "def driver_gender(driver_id):\n",
    "    if randint(0,2)==0:\n",
    "        return 'F'\n",
    "    else:\n",
    "        return \"M\"\n",
    "    "
   ]
  },
  {
   "cell_type": "code",
   "execution_count": 0,
   "metadata": {
    "application/vnd.databricks.v1+cell": {
     "cellMetadata": {
      "byteLimit": 2048000,
      "rowLimit": 10000
     },
     "inputWidgets": {},
     "nuid": "878f94a1-93c1-4f99-a757-a91ef348fa6a",
     "showTitle": false,
     "tableResultSettingsMap": {},
     "title": ""
    }
   },
   "outputs": [
    {
     "output_type": "stream",
     "name": "stdout",
     "output_type": "stream",
     "text": [
      "Out[22]: <function __main__.driver_gender(driver_id)>"
     ]
    }
   ],
   "source": [
    "spark.udf.register(\"driver_age\", driver_age,IntegerType())\n",
    "spark.udf.register(\"driver_gender\", driver_gender,StringType())"
   ]
  },
  {
   "cell_type": "code",
   "execution_count": 0,
   "metadata": {
    "application/vnd.databricks.v1+cell": {
     "cellMetadata": {
      "byteLimit": 2048000,
      "rowLimit": 10000
     },
     "inputWidgets": {},
     "nuid": "fed3364e-99d6-4c29-8f66-7cc6b945794f",
     "showTitle": false,
     "tableResultSettingsMap": {},
     "title": ""
    }
   },
   "outputs": [],
   "source": [
    "df2=df2.withColumn(\"driver_age\",F.expr(\"driver_age(driver_id)\"))\n",
    "df2=df2.withColumn(\"driver_gender\",F.expr(\"driver_gender(driver_id)\"))\n",
    "\n"
   ]
  },
  {
   "cell_type": "code",
   "execution_count": 0,
   "metadata": {
    "application/vnd.databricks.v1+cell": {
     "cellMetadata": {
      "byteLimit": 2048000,
      "rowLimit": 10000
     },
     "inputWidgets": {},
     "nuid": "a44f3794-f907-4d86-b63a-e06d603ab6d8",
     "showTitle": false,
     "tableResultSettingsMap": {},
     "title": ""
    }
   },
   "outputs": [
    {
     "output_type": "display_data",
     "data": {
      "text/html": [
       "<style scoped>\n",
       "  .table-result-container {\n",
       "    max-height: 300px;\n",
       "    overflow: auto;\n",
       "  }\n",
       "  table, th, td {\n",
       "    border: 1px solid black;\n",
       "    border-collapse: collapse;\n",
       "  }\n",
       "  th, td {\n",
       "    padding: 5px;\n",
       "  }\n",
       "  th {\n",
       "    text-align: left;\n",
       "  }\n",
       "</style><div class='table-result-container'><table class='table-result'><thead style='background-color: white'><tr><th>driver_id</th><th>driver_name</th><th>driver_age</th><th>driver_gender</th></tr></thead><tbody><tr><td>A33</td><td>Umesh</td><td>18</td><td>F</td></tr><tr><td>A10</td><td>Amith</td><td>60</td><td>M</td></tr><tr><td>A23</td><td>Dhruv</td><td>43</td><td>M</td></tr><tr><td>A5</td><td>Sagar</td><td>47</td><td>M</td></tr><tr><td>A40</td><td>Ramesh</td><td>58</td><td>M</td></tr><tr><td>A1</td><td>Ram</td><td>38</td><td>M</td></tr><tr><td>A4</td><td>Aaditya</td><td>60</td><td>M</td></tr><tr><td>A28</td><td>Jack</td><td>57</td><td>M</td></tr><tr><td>A21</td><td>Arun</td><td>53</td><td>M</td></tr><tr><td>null</td><td>null</td><td>43</td><td>M</td></tr><tr><td>A20</td><td>Vishal</td><td>35</td><td>M</td></tr><tr><td>A38</td><td>Ranjith</td><td>37</td><td>M</td></tr><tr><td>A18</td><td>Akash</td><td>36</td><td>M</td></tr><tr><td>A9</td><td>Sadru</td><td>48</td><td>M</td></tr><tr><td>A15</td><td>Dinesh</td><td>41</td><td>M</td></tr><tr><td>A37</td><td>Suresh</td><td>55</td><td>M</td></tr><tr><td>A34</td><td>Pranav</td><td>60</td><td>M</td></tr><tr><td>A29</td><td>Manohar</td><td>58</td><td>M</td></tr><tr><td>A36</td><td>Kapil</td><td>38</td><td>M</td></tr><tr><td>A32</td><td>Rahul</td><td>51</td><td>M</td></tr><tr><td>A39</td><td>Sadru</td><td>39</td><td>M</td></tr><tr><td>A3</td><td>Kevin</td><td>53</td><td>M</td></tr><tr><td>A16</td><td>Stephen</td><td>53</td><td>M</td></tr><tr><td>A26</td><td>Akhil</td><td>55</td><td>M</td></tr><tr><td>A19</td><td>Nihit</td><td>56</td><td>M</td></tr><tr><td>A24</td><td>Kumar</td><td>53</td><td>M</td></tr><tr><td>A27</td><td>Hima</td><td>43</td><td>M</td></tr><tr><td>A14</td><td>Andrew</td><td>35</td><td>M</td></tr><tr><td>A31</td><td>Nikshit</td><td>55</td><td>M</td></tr><tr><td>A30</td><td>Pavan</td><td>50</td><td>M</td></tr><tr><td>A35</td><td>Surya</td><td>63</td><td>M</td></tr><tr><td>A6</td><td>David</td><td>64</td><td>M</td></tr><tr><td>A7</td><td>Nivaan</td><td>61</td><td>M</td></tr><tr><td>A25</td><td>Gopal</td><td>33</td><td>F</td></tr><tr><td>A8</td><td>Aarav</td><td>27</td><td>F</td></tr><tr><td>A17</td><td>Steves</td><td>41</td><td>M</td></tr><tr><td>A2</td><td>Sam</td><td>55</td><td>M</td></tr><tr><td>A12</td><td>Nihal</td><td>50</td><td>M</td></tr><tr><td>A22</td><td>Ganesh</td><td>22</td><td>F</td></tr><tr><td>A13</td><td>Saatvik</td><td>25</td><td>F</td></tr><tr><td>A11</td><td>Ajay</td><td>23</td><td>F</td></tr></tbody></table></div>"
      ]
     },
     "metadata": {
      "application/vnd.databricks.v1+output": {
       "addedWidgets": {},
       "aggData": [],
       "aggError": "",
       "aggOverflow": false,
       "aggSchema": [],
       "aggSeriesLimitReached": false,
       "aggType": "",
       "arguments": {},
       "columnCustomDisplayInfos": {},
       "data": [
        [
         "A33",
         "Umesh",
         18,
         "F"
        ],
        [
         "A10",
         "Amith",
         60,
         "M"
        ],
        [
         "A23",
         "Dhruv",
         43,
         "M"
        ],
        [
         "A5",
         "Sagar",
         47,
         "M"
        ],
        [
         "A40",
         "Ramesh",
         58,
         "M"
        ],
        [
         "A1",
         "Ram",
         38,
         "M"
        ],
        [
         "A4",
         "Aaditya",
         60,
         "M"
        ],
        [
         "A28",
         "Jack",
         57,
         "M"
        ],
        [
         "A21",
         "Arun",
         53,
         "M"
        ],
        [
         null,
         null,
         43,
         "M"
        ],
        [
         "A20",
         "Vishal",
         35,
         "M"
        ],
        [
         "A38",
         "Ranjith",
         37,
         "M"
        ],
        [
         "A18",
         "Akash",
         36,
         "M"
        ],
        [
         "A9",
         "Sadru",
         48,
         "M"
        ],
        [
         "A15",
         "Dinesh",
         41,
         "M"
        ],
        [
         "A37",
         "Suresh",
         55,
         "M"
        ],
        [
         "A34",
         "Pranav",
         60,
         "M"
        ],
        [
         "A29",
         "Manohar",
         58,
         "M"
        ],
        [
         "A36",
         "Kapil",
         38,
         "M"
        ],
        [
         "A32",
         "Rahul",
         51,
         "M"
        ],
        [
         "A39",
         "Sadru",
         39,
         "M"
        ],
        [
         "A3",
         "Kevin",
         53,
         "M"
        ],
        [
         "A16",
         "Stephen",
         53,
         "M"
        ],
        [
         "A26",
         "Akhil",
         55,
         "M"
        ],
        [
         "A19",
         "Nihit",
         56,
         "M"
        ],
        [
         "A24",
         "Kumar",
         53,
         "M"
        ],
        [
         "A27",
         "Hima",
         43,
         "M"
        ],
        [
         "A14",
         "Andrew",
         35,
         "M"
        ],
        [
         "A31",
         "Nikshit",
         55,
         "M"
        ],
        [
         "A30",
         "Pavan",
         50,
         "M"
        ],
        [
         "A35",
         "Surya",
         63,
         "M"
        ],
        [
         "A6",
         "David",
         64,
         "M"
        ],
        [
         "A7",
         "Nivaan",
         61,
         "M"
        ],
        [
         "A25",
         "Gopal",
         33,
         "F"
        ],
        [
         "A8",
         "Aarav",
         27,
         "F"
        ],
        [
         "A17",
         "Steves",
         41,
         "M"
        ],
        [
         "A2",
         "Sam",
         55,
         "M"
        ],
        [
         "A12",
         "Nihal",
         50,
         "M"
        ],
        [
         "A22",
         "Ganesh",
         22,
         "F"
        ],
        [
         "A13",
         "Saatvik",
         25,
         "F"
        ],
        [
         "A11",
         "Ajay",
         23,
         "F"
        ]
       ],
       "datasetInfos": [],
       "dbfsResultPath": null,
       "isJsonSchema": true,
       "metadata": {},
       "overflow": false,
       "plotOptions": {
        "customPlotOptions": {},
        "displayType": "table",
        "pivotAggregation": null,
        "pivotColumns": null,
        "xColumns": null,
        "yColumns": null
       },
       "removedWidgets": [],
       "schema": [
        {
         "metadata": "{\"scale\":0}",
         "name": "driver_id",
         "type": "\"string\""
        },
        {
         "metadata": "{\"scale\":0}",
         "name": "driver_name",
         "type": "\"string\""
        },
        {
         "metadata": "{}",
         "name": "driver_age",
         "type": "\"integer\""
        },
        {
         "metadata": "{}",
         "name": "driver_gender",
         "type": "\"string\""
        }
       ],
       "type": "table"
      }
     },
     "output_type": "display_data"
    }
   ],
   "source": [
    "display(df2)"
   ]
  },
  {
   "cell_type": "code",
   "execution_count": 0,
   "metadata": {
    "application/vnd.databricks.v1+cell": {
     "cellMetadata": {
      "byteLimit": 2048000,
      "rowLimit": 10000
     },
     "inputWidgets": {},
     "nuid": "ad7bc6bc-9bbb-4274-95ed-be8ceeedf71f",
     "showTitle": false,
     "tableResultSettingsMap": {},
     "title": ""
    }
   },
   "outputs": [],
   "source": [
    "file_path6 = \"silver_Zone/driver_Dimension\""
   ]
  },
  {
   "cell_type": "code",
   "execution_count": 0,
   "metadata": {
    "application/vnd.databricks.v1+cell": {
     "cellMetadata": {
      "byteLimit": 2048000,
      "rowLimit": 10000
     },
     "inputWidgets": {},
     "nuid": "bfceaaba-6289-4aa7-9a79-924798ad12c9",
     "showTitle": false,
     "tableResultSettingsMap": {},
     "title": ""
    }
   },
   "outputs": [],
   "source": [
    "df2.repartition(1).write.save(f\"abfss://{container_name}@{storage_account_name}.dfs.core.windows.net/{file_path6}\")"
   ]
  }
 ],
 "metadata": {
  "application/vnd.databricks.v1+notebook": {
   "computePreferences": null,
   "dashboards": [],
   "environmentMetadata": null,
   "language": "python",
   "notebookMetadata": {
    "mostRecentlyExecutedCommandWithImplicitDF": {
     "commandId": -1,
     "dataframes": [
      "_sqldf"
     ]
    },
    "pythonIndentUnit": 4
   },
   "notebookName": "Driver Dimension",
   "widgets": {}
  }
 },
 "nbformat": 4,
 "nbformat_minor": 0
}
