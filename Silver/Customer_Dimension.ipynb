{
 "cells": [
  {
   "cell_type": "markdown",
   "metadata": {
    "application/vnd.databricks.v1+cell": {
     "cellMetadata": {},
     "inputWidgets": {},
     "nuid": "7755808f-f579-4332-9da3-4eaa2a6093eb",
     "showTitle": true,
     "tableResultSettingsMap": {},
     "title": ""
    }
   },
   "source": [
    "# Create Customer Dimension"
   ]
  },
  {
   "cell_type": "code",
   "execution_count": 0,
   "metadata": {
    "application/vnd.databricks.v1+cell": {
     "cellMetadata": {
      "byteLimit": 2048000,
      "rowLimit": 10000
     },
     "inputWidgets": {},
     "nuid": "b017b846-82df-4a5c-8f5e-ad7d6612fb80",
     "showTitle": false,
     "tableResultSettingsMap": {},
     "title": ""
    }
   },
   "outputs": [],
   "source": [
    "import pyspark.sql.functions as F\n",
    "from random import randint\n",
    "from pyspark.sql.types import * "
   ]
  },
  {
   "cell_type": "code",
   "execution_count": 0,
   "metadata": {
    "application/vnd.databricks.v1+cell": {
     "cellMetadata": {
      "byteLimit": 2048000,
      "rowLimit": 10000
     },
     "inputWidgets": {},
     "nuid": "ffbcc82b-0a6c-43c7-886e-54e71b2e2a1e",
     "showTitle": false,
     "tableResultSettingsMap": {},
     "title": ""
    }
   },
   "outputs": [],
   "source": [
    "# Azure Blob Storage details\n",
    "storage_account_name = \"<storage-account-name>\"\n",
    "storage_account_key = \"<storage-account-access-key>\"\n",
    "container_name = \"deltalake\"\n",
    "file_path1 = \"bronze/Trip_Transactions\"\n",
    "file_path2 = \"bronze/Rewards_Points\""
   ]
  },
  {
   "cell_type": "code",
   "execution_count": 0,
   "metadata": {
    "application/vnd.databricks.v1+cell": {
     "cellMetadata": {
      "byteLimit": 2048000,
      "rowLimit": 10000
     },
     "inputWidgets": {},
     "nuid": "7b844cd2-81bd-40ee-9f73-412b6a35c980",
     "showTitle": false,
     "tableResultSettingsMap": {},
     "title": ""
    }
   },
   "outputs": [],
   "source": [
    "spark.conf.set(f\"fs.azure.account.key.{storage_account_name}.dfs.core.windows.net\", storage_account_key)"
   ]
  },
  {
   "cell_type": "code",
   "execution_count": 0,
   "metadata": {
    "application/vnd.databricks.v1+cell": {
     "cellMetadata": {
      "byteLimit": 2048000,
      "rowLimit": 10000
     },
     "inputWidgets": {},
     "nuid": "4ca9700e-f69d-4a61-a169-892a4a4535f7",
     "showTitle": false,
     "tableResultSettingsMap": {},
     "title": ""
    }
   },
   "outputs": [],
   "source": [
    "df1=spark.read.format(\"delta\").load(f\"abfss://{container_name}@{storage_account_name}.dfs.core.windows.net/{file_path1}\")"
   ]
  },
  {
   "cell_type": "code",
   "execution_count": 0,
   "metadata": {
    "application/vnd.databricks.v1+cell": {
     "cellMetadata": {
      "byteLimit": 2048000,
      "rowLimit": 10000
     },
     "inputWidgets": {},
     "nuid": "187d6547-803f-4695-bb3d-d4788ce44c78",
     "showTitle": false,
     "tableResultSettingsMap": {},
     "title": ""
    }
   },
   "outputs": [],
   "source": [
    "df1.createOrReplaceTempView(\"df1\") "
   ]
  },
  {
   "cell_type": "code",
   "execution_count": 0,
   "metadata": {
    "application/vnd.databricks.v1+cell": {
     "cellMetadata": {
      "byteLimit": 2048000,
      "implicitDf": true,
      "rowLimit": 10000
     },
     "inputWidgets": {},
     "nuid": "dc818d55-0d85-4e2b-a337-a75baebdc5a5",
     "showTitle": false,
     "tableResultSettingsMap": {},
     "title": ""
    }
   },
   "outputs": [],
   "source": [
    "df2=spark.sql('select distinct customer_id,customer_name from df1')"
   ]
  },
  {
   "cell_type": "code",
   "execution_count": 0,
   "metadata": {
    "application/vnd.databricks.v1+cell": {
     "cellMetadata": {
      "byteLimit": 2048000,
      "rowLimit": 10000
     },
     "inputWidgets": {},
     "nuid": "e0b71f57-4241-4e69-9888-75d88bb8b967",
     "showTitle": false,
     "tableResultSettingsMap": {},
     "title": ""
    }
   },
   "outputs": [],
   "source": [
    "def customer_age(customer_id):\n",
    "    return randint(18,65)\n",
    "def customer_gender(customer_id):\n",
    "    if customer_id%2==0:\n",
    "        return 'M'\n",
    "    else:\n",
    "        return \"F\"\n",
    "    "
   ]
  },
  {
   "cell_type": "code",
   "execution_count": 0,
   "metadata": {
    "application/vnd.databricks.v1+cell": {
     "cellMetadata": {
      "byteLimit": 2048000,
      "rowLimit": 10000
     },
     "inputWidgets": {},
     "nuid": "878f94a1-93c1-4f99-a757-a91ef348fa6a",
     "showTitle": false,
     "tableResultSettingsMap": {},
     "title": ""
    }
   },
   "outputs": [
    {
     "name": "stdout",
     "output_type": "stream",
     "text": [
      "Out[8]: <function __main__.customer_gender(customer_id)>"
     ]
    }
   ],
   "source": [
    "spark.udf.register(\"customer_age\", customer_age,IntegerType())\n",
    "spark.udf.register(\"customer_gender\", customer_gender,StringType())"
   ]
  },
  {
   "cell_type": "code",
   "execution_count": 0,
   "metadata": {
    "application/vnd.databricks.v1+cell": {
     "cellMetadata": {
      "byteLimit": 2048000,
      "rowLimit": 10000
     },
     "inputWidgets": {},
     "nuid": "fed3364e-99d6-4c29-8f66-7cc6b945794f",
     "showTitle": false,
     "tableResultSettingsMap": {},
     "title": ""
    }
   },
   "outputs": [],
   "source": [
    "df2=df2.withColumn(\"customer_age\",F.expr(\"customer_age(customer_id)\"))\n",
    "df2=df2.withColumn(\"customer_gender\",F.expr(\"customer_gender(customer_id)\"))\n",
    "\n"
   ]
  },
  {
   "cell_type": "code",
   "execution_count": 0,
   "metadata": {
    "application/vnd.databricks.v1+cell": {
     "cellMetadata": {
      "byteLimit": 2048000,
      "rowLimit": 10000
     },
     "inputWidgets": {},
     "nuid": "a44f3794-f907-4d86-b63a-e06d603ab6d8",
     "showTitle": false,
     "tableResultSettingsMap": {},
     "title": ""
    }
   },
   "outputs": [
    {
     "data": {
      "text/html": [
       "<style scoped>\n",
       "  .table-result-container {\n",
       "    max-height: 300px;\n",
       "    overflow: auto;\n",
       "  }\n",
       "  table, th, td {\n",
       "    border: 1px solid black;\n",
       "    border-collapse: collapse;\n",
       "  }\n",
       "  th, td {\n",
       "    padding: 5px;\n",
       "  }\n",
       "  th {\n",
       "    text-align: left;\n",
       "  }\n",
       "</style><div class='table-result-container'><table class='table-result'><thead style='background-color: white'><tr><th>customer_id</th><th>customer_name</th><th>customer_age</th><th>customer_gender</th></tr></thead><tbody><tr><td>15</td><td>ABC11</td><td>45</td><td>F</td></tr><tr><td>18</td><td>ABC13</td><td>30</td><td>M</td></tr><tr><td>14</td><td>ABC11</td><td>39</td><td>M</td></tr><tr><td>34</td><td>ABC30</td><td>65</td><td>M</td></tr><tr><td>20</td><td>ABC19</td><td>62</td><td>M</td></tr><tr><td>1</td><td>ABC37</td><td>25</td><td>F</td></tr><tr><td>19</td><td>ABC18</td><td>22</td><td>F</td></tr><tr><td>39</td><td>ABC38</td><td>44</td><td>F</td></tr><tr><td>30</td><td>ABC29</td><td>40</td><td>M</td></tr><tr><td>37</td><td>ABC35</td><td>32</td><td>F</td></tr><tr><td>33</td><td>ABC30</td><td>61</td><td>F</td></tr><tr><td>17</td><td>ABC13</td><td>49</td><td>F</td></tr><tr><td>21</td><td>ABC19</td><td>38</td><td>F</td></tr><tr><td>35</td><td>ABC34</td><td>53</td><td>F</td></tr><tr><td>4</td><td>ABC1</td><td>19</td><td>M</td></tr><tr><td>28</td><td>ABC23</td><td>42</td><td>M</td></tr><tr><td>1</td><td>ABC38</td><td>31</td><td>F</td></tr><tr><td>12</td><td>ABC8</td><td>38</td><td>M</td></tr><tr><td>3</td><td>ABC38</td><td>41</td><td>F</td></tr><tr><td>13</td><td>ABC12</td><td>44</td><td>F</td></tr><tr><td>21</td><td>ABC18</td><td>24</td><td>F</td></tr><tr><td>29</td><td>ABC28</td><td>43</td><td>F</td></tr><tr><td>38</td><td>ABC37</td><td>61</td><td>M</td></tr><tr><td>33</td><td>ABC28</td><td>30</td><td>F</td></tr><tr><td>19</td><td>ABC17</td><td>23</td><td>F</td></tr><tr><td>21</td><td>ABC20</td><td>37</td><td>F</td></tr><tr><td>36</td><td>ABC33</td><td>31</td><td>M</td></tr><tr><td>12</td><td>ABC7</td><td>47</td><td>M</td></tr><tr><td>12</td><td>ABC9</td><td>51</td><td>M</td></tr><tr><td>28</td><td>ABC25</td><td>18</td><td>M</td></tr><tr><td>13</td><td>ABC9</td><td>59</td><td>F</td></tr><tr><td>8</td><td>ABC7</td><td>39</td><td>M</td></tr><tr><td>32</td><td>ABC27</td><td>50</td><td>M</td></tr><tr><td>5</td><td>ABC0</td><td>62</td><td>F</td></tr><tr><td>5</td><td>ABC2</td><td>28</td><td>F</td></tr><tr><td>9</td><td>ABC6</td><td>25</td><td>F</td></tr><tr><td>24</td><td>ABC21</td><td>45</td><td>M</td></tr><tr><td>24</td><td>ABC22</td><td>44</td><td>M</td></tr><tr><td>17</td><td>ABC15</td><td>21</td><td>F</td></tr><tr><td>2</td><td>ABC37</td><td>42</td><td>M</td></tr><tr><td>25</td><td>ABC20</td><td>53</td><td>F</td></tr><tr><td>29</td><td>ABC24</td><td>19</td><td>F</td></tr><tr><td>13</td><td>ABC10</td><td>38</td><td>F</td></tr><tr><td>38</td><td>ABC36</td><td>25</td><td>M</td></tr><tr><td>22</td><td>ABC18</td><td>51</td><td>M</td></tr><tr><td>31</td><td>ABC30</td><td>35</td><td>F</td></tr><tr><td>19</td><td>ABC16</td><td>22</td><td>F</td></tr><tr><td>13</td><td>ABC8</td><td>41</td><td>F</td></tr><tr><td>39</td><td>ABC34</td><td>37</td><td>F</td></tr><tr><td>12</td><td>ABC11</td><td>48</td><td>M</td></tr><tr><td>36</td><td>ABC31</td><td>56</td><td>M</td></tr><tr><td>23</td><td>ABC22</td><td>35</td><td>F</td></tr><tr><td>8</td><td>ABC6</td><td>44</td><td>M</td></tr><tr><td>28</td><td>ABC26</td><td>49</td><td>M</td></tr><tr><td>26</td><td>ABC23</td><td>65</td><td>M</td></tr><tr><td>23</td><td>ABC18</td><td>29</td><td>F</td></tr><tr><td>18</td><td>ABC16</td><td>30</td><td>M</td></tr><tr><td>5</td><td>ABC4</td><td>54</td><td>F</td></tr><tr><td>21</td><td>ABC16</td><td>59</td><td>F</td></tr><tr><td>37</td><td>ABC33</td><td>65</td><td>F</td></tr><tr><td>7</td><td>ABC2</td><td>26</td><td>F</td></tr><tr><td>20</td><td>ABC18</td><td>59</td><td>M</td></tr><tr><td>9</td><td>ABC5</td><td>22</td><td>F</td></tr><tr><td>2</td><td>ABC39</td><td>34</td><td>M</td></tr><tr><td>21</td><td>ABC17</td><td>51</td><td>F</td></tr><tr><td>35</td><td>ABC31</td><td>59</td><td>F</td></tr><tr><td>32</td><td>ABC30</td><td>27</td><td>M</td></tr><tr><td>17</td><td>ABC16</td><td>26</td><td>F</td></tr><tr><td>10</td><td>ABC8</td><td>37</td><td>M</td></tr><tr><td>17</td><td>ABC12</td><td>36</td><td>F</td></tr><tr><td>2</td><td>ABC38</td><td>38</td><td>M</td></tr><tr><td>9</td><td>ABC4</td><td>62</td><td>F</td></tr><tr><td>39</td><td>ABC35</td><td>28</td><td>F</td></tr><tr><td>14</td><td>ABC9</td><td>59</td><td>M</td></tr><tr><td>27</td><td>ABC25</td><td>49</td><td>F</td></tr><tr><td>34</td><td>ABC32</td><td>38</td><td>M</td></tr><tr><td>31</td><td>ABC29</td><td>48</td><td>F</td></tr><tr><td>4</td><td>ABC2</td><td>25</td><td>M</td></tr><tr><td>23</td><td>ABC19</td><td>48</td><td>F</td></tr><tr><td>33</td><td>ABC29</td><td>41</td><td>F</td></tr><tr><td>30</td><td>ABC27</td><td>26</td><td>M</td></tr><tr><td>24</td><td>ABC20</td><td>40</td><td>M</td></tr><tr><td>26</td><td>ABC24</td><td>52</td><td>M</td></tr><tr><td>15</td><td>ABC12</td><td>38</td><td>F</td></tr><tr><td>38</td><td>ABC33</td><td>26</td><td>M</td></tr><tr><td>1</td><td>ABC0</td><td>24</td><td>F</td></tr><tr><td>18</td><td>ABC14</td><td>47</td><td>M</td></tr><tr><td>6</td><td>ABC2</td><td>57</td><td>M</td></tr><tr><td>20</td><td>ABC17</td><td>39</td><td>M</td></tr><tr><td>36</td><td>ABC34</td><td>62</td><td>M</td></tr><tr><td>18</td><td>ABC17</td><td>58</td><td>M</td></tr><tr><td>25</td><td>ABC21</td><td>59</td><td>F</td></tr><tr><td>31</td><td>ABC27</td><td>60</td><td>F</td></tr><tr><td>10</td><td>ABC6</td><td>29</td><td>M</td></tr><tr><td>14</td><td>ABC10</td><td>46</td><td>M</td></tr><tr><td>30</td><td>ABC25</td><td>28</td><td>M</td></tr><tr><td>22</td><td>ABC20</td><td>65</td><td>M</td></tr><tr><td>3</td><td>ABC1</td><td>35</td><td>F</td></tr><tr><td>36</td><td>ABC32</td><td>42</td><td>M</td></tr><tr><td>15</td><td>ABC14</td><td>31</td><td>F</td></tr><tr><td>10</td><td>ABC7</td><td>59</td><td>M</td></tr><tr><td>8</td><td>ABC5</td><td>39</td><td>M</td></tr><tr><td>17</td><td>ABC14</td><td>62</td><td>F</td></tr><tr><td>2</td><td>ABC1</td><td>45</td><td>M</td></tr><tr><td>14</td><td>ABC13</td><td>49</td><td>M</td></tr><tr><td>6</td><td>ABC4</td><td>35</td><td>M</td></tr><tr><td>29</td><td>ABC26</td><td>55</td><td>F</td></tr><tr><td>15</td><td>ABC10</td><td>49</td><td>F</td></tr><tr><td>26</td><td>ABC21</td><td>58</td><td>M</td></tr><tr><td>9</td><td>ABC7</td><td>19</td><td>F</td></tr><tr><td>39</td><td>ABC37</td><td>64</td><td>F</td></tr><tr><td>22</td><td>ABC19</td><td>29</td><td>M</td></tr><tr><td>19</td><td>ABC14</td><td>60</td><td>F</td></tr><tr><td>15</td><td>ABC13</td><td>51</td><td>F</td></tr><tr><td>25</td><td>ABC23</td><td>25</td><td>F</td></tr><tr><td>5</td><td>ABC1</td><td>26</td><td>F</td></tr><tr><td>11</td><td>ABC6</td><td>52</td><td>F</td></tr><tr><td>27</td><td>ABC26</td><td>23</td><td>F</td></tr><tr><td>6</td><td>ABC5</td><td>38</td><td>M</td></tr><tr><td>12</td><td>ABC10</td><td>22</td><td>M</td></tr><tr><td>2</td><td>ABC0</td><td>28</td><td>M</td></tr><tr><td>1</td><td>ABC36</td><td>62</td><td>F</td></tr><tr><td>32</td><td>ABC31</td><td>20</td><td>M</td></tr><tr><td>11</td><td>ABC7</td><td>18</td><td>F</td></tr><tr><td>22</td><td>ABC17</td><td>23</td><td>M</td></tr><tr><td>8</td><td>ABC4</td><td>65</td><td>M</td></tr><tr><td>7</td><td>ABC3</td><td>29</td><td>F</td></tr><tr><td>16</td><td>ABC14</td><td>49</td><td>M</td></tr><tr><td>7</td><td>ABC5</td><td>46</td><td>F</td></tr><tr><td>26</td><td>ABC25</td><td>60</td><td>M</td></tr><tr><td>37</td><td>ABC32</td><td>19</td><td>F</td></tr><tr><td>3</td><td>ABC39</td><td>40</td><td>F</td></tr><tr><td>27</td><td>ABC23</td><td>46</td><td>F</td></tr><tr><td>16</td><td>ABC11</td><td>52</td><td>M</td></tr><tr><td>14</td><td>ABC12</td><td>49</td><td>M</td></tr><tr><td>36</td><td>ABC35</td><td>30</td><td>M</td></tr><tr><td>32</td><td>ABC28</td><td>42</td><td>M</td></tr><tr><td>34</td><td>ABC29</td><td>50</td><td>M</td></tr><tr><td>35</td><td>ABC33</td><td>36</td><td>F</td></tr><tr><td>8</td><td>ABC3</td><td>58</td><td>M</td></tr><tr><td>7</td><td>ABC6</td><td>64</td><td>F</td></tr><tr><td>38</td><td>ABC34</td><td>61</td><td>M</td></tr><tr><td>0</td><td>ABC36</td><td>51</td><td>M</td></tr><tr><td>33</td><td>ABC31</td><td>38</td><td>F</td></tr><tr><td>11</td><td>ABC9</td><td>45</td><td>F</td></tr><tr><td>35</td><td>ABC30</td><td>23</td><td>F</td></tr><tr><td>20</td><td>ABC15</td><td>28</td><td>M</td></tr><tr><td>28</td><td>ABC27</td><td>64</td><td>M</td></tr><tr><td>22</td><td>ABC21</td><td>57</td><td>M</td></tr><tr><td>11</td><td>ABC8</td><td>39</td><td>F</td></tr><tr><td>38</td><td>ABC35</td><td>58</td><td>M</td></tr><tr><td>23</td><td>ABC21</td><td>48</td><td>F</td></tr><tr><td>19</td><td>ABC15</td><td>42</td><td>F</td></tr><tr><td>37</td><td>ABC36</td><td>29</td><td>F</td></tr><tr><td>29</td><td>ABC27</td><td>37</td><td>F</td></tr><tr><td>10</td><td>ABC9</td><td>47</td><td>M</td></tr><tr><td>39</td><td>ABC36</td><td>64</td><td>F</td></tr><tr><td>4</td><td>ABC3</td><td>32</td><td>M</td></tr><tr><td>9</td><td>ABC8</td><td>55</td><td>F</td></tr><tr><td>16</td><td>ABC15</td><td>49</td><td>M</td></tr><tr><td>13</td><td>ABC11</td><td>42</td><td>F</td></tr><tr><td>28</td><td>ABC24</td><td>59</td><td>M</td></tr><tr><td>30</td><td>ABC28</td><td>25</td><td>M</td></tr><tr><td>30</td><td>ABC26</td><td>44</td><td>M</td></tr><tr><td>34</td><td>ABC33</td><td>65</td><td>M</td></tr><tr><td>10</td><td>ABC5</td><td>25</td><td>M</td></tr><tr><td>16</td><td>ABC13</td><td>47</td><td>M</td></tr><tr><td>26</td><td>ABC22</td><td>26</td><td>M</td></tr><tr><td>24</td><td>ABC19</td><td>43</td><td>M</td></tr><tr><td>16</td><td>ABC12</td><td>63</td><td>M</td></tr><tr><td>0</td><td>ABC35</td><td>63</td><td>M</td></tr><tr><td>33</td><td>ABC32</td><td>53</td><td>F</td></tr><tr><td>18</td><td>ABC15</td><td>53</td><td>M</td></tr><tr><td>27</td><td>ABC22</td><td>45</td><td>F</td></tr><tr><td>37</td><td>ABC34</td><td>39</td><td>F</td></tr><tr><td>4</td><td>ABC39</td><td>38</td><td>M</td></tr><tr><td>31</td><td>ABC26</td><td>53</td><td>F</td></tr><tr><td>5</td><td>ABC3</td><td>22</td><td>F</td></tr><tr><td>25</td><td>ABC24</td><td>18</td><td>F</td></tr><tr><td>35</td><td>ABC32</td><td>20</td><td>F</td></tr><tr><td>34</td><td>ABC31</td><td>61</td><td>M</td></tr><tr><td>20</td><td>ABC16</td><td>50</td><td>M</td></tr><tr><td>1</td><td>ABC39</td><td>51</td><td>F</td></tr><tr><td>6</td><td>ABC3</td><td>55</td><td>M</td></tr><tr><td>32</td><td>ABC29</td><td>55</td><td>M</td></tr><tr><td>24</td><td>ABC23</td><td>58</td><td>M</td></tr><tr><td>11</td><td>ABC10</td><td>34</td><td>F</td></tr><tr><td>3</td><td>ABC0</td><td>62</td><td>F</td></tr><tr><td>23</td><td>ABC20</td><td>37</td><td>F</td></tr><tr><td>25</td><td>ABC22</td><td>65</td><td>F</td></tr><tr><td>4</td><td>ABC0</td><td>47</td><td>M</td></tr><tr><td>27</td><td>ABC24</td><td>61</td><td>F</td></tr><tr><td>29</td><td>ABC25</td><td>62</td><td>F</td></tr><tr><td>3</td><td>ABC2</td><td>53</td><td>F</td></tr><tr><td>31</td><td>ABC28</td><td>47</td><td>F</td></tr><tr><td>7</td><td>ABC4</td><td>54</td><td>F</td></tr><tr><td>6</td><td>ABC1</td><td>62</td><td>M</td></tr></tbody></table></div>"
      ]
     },
     "metadata": {
      "application/vnd.databricks.v1+output": {
       "addedWidgets": {},
       "aggData": [],
       "aggError": "",
       "aggOverflow": false,
       "aggSchema": [],
       "aggSeriesLimitReached": false,
       "aggType": "",
       "arguments": {},
       "columnCustomDisplayInfos": {},
       "data": [
        [
         15,
         "ABC11",
         45,
         "F"
        ],
        [
         18,
         "ABC13",
         30,
         "M"
        ],
        [
         14,
         "ABC11",
         39,
         "M"
        ],
        [
         34,
         "ABC30",
         65,
         "M"
        ],
        [
         20,
         "ABC19",
         62,
         "M"
        ],
        [
         1,
         "ABC37",
         25,
         "F"
        ],
        [
         19,
         "ABC18",
         22,
         "F"
        ],
        [
         39,
         "ABC38",
         44,
         "F"
        ],
        [
         30,
         "ABC29",
         40,
         "M"
        ],
        [
         37,
         "ABC35",
         32,
         "F"
        ],
        [
         33,
         "ABC30",
         61,
         "F"
        ],
        [
         17,
         "ABC13",
         49,
         "F"
        ],
        [
         21,
         "ABC19",
         38,
         "F"
        ],
        [
         35,
         "ABC34",
         53,
         "F"
        ],
        [
         4,
         "ABC1",
         19,
         "M"
        ],
        [
         28,
         "ABC23",
         42,
         "M"
        ],
        [
         1,
         "ABC38",
         31,
         "F"
        ],
        [
         12,
         "ABC8",
         38,
         "M"
        ],
        [
         3,
         "ABC38",
         41,
         "F"
        ],
        [
         13,
         "ABC12",
         44,
         "F"
        ],
        [
         21,
         "ABC18",
         24,
         "F"
        ],
        [
         29,
         "ABC28",
         43,
         "F"
        ],
        [
         38,
         "ABC37",
         61,
         "M"
        ],
        [
         33,
         "ABC28",
         30,
         "F"
        ],
        [
         19,
         "ABC17",
         23,
         "F"
        ],
        [
         21,
         "ABC20",
         37,
         "F"
        ],
        [
         36,
         "ABC33",
         31,
         "M"
        ],
        [
         12,
         "ABC7",
         47,
         "M"
        ],
        [
         12,
         "ABC9",
         51,
         "M"
        ],
        [
         28,
         "ABC25",
         18,
         "M"
        ],
        [
         13,
         "ABC9",
         59,
         "F"
        ],
        [
         8,
         "ABC7",
         39,
         "M"
        ],
        [
         32,
         "ABC27",
         50,
         "M"
        ],
        [
         5,
         "ABC0",
         62,
         "F"
        ],
        [
         5,
         "ABC2",
         28,
         "F"
        ],
        [
         9,
         "ABC6",
         25,
         "F"
        ],
        [
         24,
         "ABC21",
         45,
         "M"
        ],
        [
         24,
         "ABC22",
         44,
         "M"
        ],
        [
         17,
         "ABC15",
         21,
         "F"
        ],
        [
         2,
         "ABC37",
         42,
         "M"
        ],
        [
         25,
         "ABC20",
         53,
         "F"
        ],
        [
         29,
         "ABC24",
         19,
         "F"
        ],
        [
         13,
         "ABC10",
         38,
         "F"
        ],
        [
         38,
         "ABC36",
         25,
         "M"
        ],
        [
         22,
         "ABC18",
         51,
         "M"
        ],
        [
         31,
         "ABC30",
         35,
         "F"
        ],
        [
         19,
         "ABC16",
         22,
         "F"
        ],
        [
         13,
         "ABC8",
         41,
         "F"
        ],
        [
         39,
         "ABC34",
         37,
         "F"
        ],
        [
         12,
         "ABC11",
         48,
         "M"
        ],
        [
         36,
         "ABC31",
         56,
         "M"
        ],
        [
         23,
         "ABC22",
         35,
         "F"
        ],
        [
         8,
         "ABC6",
         44,
         "M"
        ],
        [
         28,
         "ABC26",
         49,
         "M"
        ],
        [
         26,
         "ABC23",
         65,
         "M"
        ],
        [
         23,
         "ABC18",
         29,
         "F"
        ],
        [
         18,
         "ABC16",
         30,
         "M"
        ],
        [
         5,
         "ABC4",
         54,
         "F"
        ],
        [
         21,
         "ABC16",
         59,
         "F"
        ],
        [
         37,
         "ABC33",
         65,
         "F"
        ],
        [
         7,
         "ABC2",
         26,
         "F"
        ],
        [
         20,
         "ABC18",
         59,
         "M"
        ],
        [
         9,
         "ABC5",
         22,
         "F"
        ],
        [
         2,
         "ABC39",
         34,
         "M"
        ],
        [
         21,
         "ABC17",
         51,
         "F"
        ],
        [
         35,
         "ABC31",
         59,
         "F"
        ],
        [
         32,
         "ABC30",
         27,
         "M"
        ],
        [
         17,
         "ABC16",
         26,
         "F"
        ],
        [
         10,
         "ABC8",
         37,
         "M"
        ],
        [
         17,
         "ABC12",
         36,
         "F"
        ],
        [
         2,
         "ABC38",
         38,
         "M"
        ],
        [
         9,
         "ABC4",
         62,
         "F"
        ],
        [
         39,
         "ABC35",
         28,
         "F"
        ],
        [
         14,
         "ABC9",
         59,
         "M"
        ],
        [
         27,
         "ABC25",
         49,
         "F"
        ],
        [
         34,
         "ABC32",
         38,
         "M"
        ],
        [
         31,
         "ABC29",
         48,
         "F"
        ],
        [
         4,
         "ABC2",
         25,
         "M"
        ],
        [
         23,
         "ABC19",
         48,
         "F"
        ],
        [
         33,
         "ABC29",
         41,
         "F"
        ],
        [
         30,
         "ABC27",
         26,
         "M"
        ],
        [
         24,
         "ABC20",
         40,
         "M"
        ],
        [
         26,
         "ABC24",
         52,
         "M"
        ],
        [
         15,
         "ABC12",
         38,
         "F"
        ],
        [
         38,
         "ABC33",
         26,
         "M"
        ],
        [
         1,
         "ABC0",
         24,
         "F"
        ],
        [
         18,
         "ABC14",
         47,
         "M"
        ],
        [
         6,
         "ABC2",
         57,
         "M"
        ],
        [
         20,
         "ABC17",
         39,
         "M"
        ],
        [
         36,
         "ABC34",
         62,
         "M"
        ],
        [
         18,
         "ABC17",
         58,
         "M"
        ],
        [
         25,
         "ABC21",
         59,
         "F"
        ],
        [
         31,
         "ABC27",
         60,
         "F"
        ],
        [
         10,
         "ABC6",
         29,
         "M"
        ],
        [
         14,
         "ABC10",
         46,
         "M"
        ],
        [
         30,
         "ABC25",
         28,
         "M"
        ],
        [
         22,
         "ABC20",
         65,
         "M"
        ],
        [
         3,
         "ABC1",
         35,
         "F"
        ],
        [
         36,
         "ABC32",
         42,
         "M"
        ],
        [
         15,
         "ABC14",
         31,
         "F"
        ],
        [
         10,
         "ABC7",
         59,
         "M"
        ],
        [
         8,
         "ABC5",
         39,
         "M"
        ],
        [
         17,
         "ABC14",
         62,
         "F"
        ],
        [
         2,
         "ABC1",
         45,
         "M"
        ],
        [
         14,
         "ABC13",
         49,
         "M"
        ],
        [
         6,
         "ABC4",
         35,
         "M"
        ],
        [
         29,
         "ABC26",
         55,
         "F"
        ],
        [
         15,
         "ABC10",
         49,
         "F"
        ],
        [
         26,
         "ABC21",
         58,
         "M"
        ],
        [
         9,
         "ABC7",
         19,
         "F"
        ],
        [
         39,
         "ABC37",
         64,
         "F"
        ],
        [
         22,
         "ABC19",
         29,
         "M"
        ],
        [
         19,
         "ABC14",
         60,
         "F"
        ],
        [
         15,
         "ABC13",
         51,
         "F"
        ],
        [
         25,
         "ABC23",
         25,
         "F"
        ],
        [
         5,
         "ABC1",
         26,
         "F"
        ],
        [
         11,
         "ABC6",
         52,
         "F"
        ],
        [
         27,
         "ABC26",
         23,
         "F"
        ],
        [
         6,
         "ABC5",
         38,
         "M"
        ],
        [
         12,
         "ABC10",
         22,
         "M"
        ],
        [
         2,
         "ABC0",
         28,
         "M"
        ],
        [
         1,
         "ABC36",
         62,
         "F"
        ],
        [
         32,
         "ABC31",
         20,
         "M"
        ],
        [
         11,
         "ABC7",
         18,
         "F"
        ],
        [
         22,
         "ABC17",
         23,
         "M"
        ],
        [
         8,
         "ABC4",
         65,
         "M"
        ],
        [
         7,
         "ABC3",
         29,
         "F"
        ],
        [
         16,
         "ABC14",
         49,
         "M"
        ],
        [
         7,
         "ABC5",
         46,
         "F"
        ],
        [
         26,
         "ABC25",
         60,
         "M"
        ],
        [
         37,
         "ABC32",
         19,
         "F"
        ],
        [
         3,
         "ABC39",
         40,
         "F"
        ],
        [
         27,
         "ABC23",
         46,
         "F"
        ],
        [
         16,
         "ABC11",
         52,
         "M"
        ],
        [
         14,
         "ABC12",
         49,
         "M"
        ],
        [
         36,
         "ABC35",
         30,
         "M"
        ],
        [
         32,
         "ABC28",
         42,
         "M"
        ],
        [
         34,
         "ABC29",
         50,
         "M"
        ],
        [
         35,
         "ABC33",
         36,
         "F"
        ],
        [
         8,
         "ABC3",
         58,
         "M"
        ],
        [
         7,
         "ABC6",
         64,
         "F"
        ],
        [
         38,
         "ABC34",
         61,
         "M"
        ],
        [
         0,
         "ABC36",
         51,
         "M"
        ],
        [
         33,
         "ABC31",
         38,
         "F"
        ],
        [
         11,
         "ABC9",
         45,
         "F"
        ],
        [
         35,
         "ABC30",
         23,
         "F"
        ],
        [
         20,
         "ABC15",
         28,
         "M"
        ],
        [
         28,
         "ABC27",
         64,
         "M"
        ],
        [
         22,
         "ABC21",
         57,
         "M"
        ],
        [
         11,
         "ABC8",
         39,
         "F"
        ],
        [
         38,
         "ABC35",
         58,
         "M"
        ],
        [
         23,
         "ABC21",
         48,
         "F"
        ],
        [
         19,
         "ABC15",
         42,
         "F"
        ],
        [
         37,
         "ABC36",
         29,
         "F"
        ],
        [
         29,
         "ABC27",
         37,
         "F"
        ],
        [
         10,
         "ABC9",
         47,
         "M"
        ],
        [
         39,
         "ABC36",
         64,
         "F"
        ],
        [
         4,
         "ABC3",
         32,
         "M"
        ],
        [
         9,
         "ABC8",
         55,
         "F"
        ],
        [
         16,
         "ABC15",
         49,
         "M"
        ],
        [
         13,
         "ABC11",
         42,
         "F"
        ],
        [
         28,
         "ABC24",
         59,
         "M"
        ],
        [
         30,
         "ABC28",
         25,
         "M"
        ],
        [
         30,
         "ABC26",
         44,
         "M"
        ],
        [
         34,
         "ABC33",
         65,
         "M"
        ],
        [
         10,
         "ABC5",
         25,
         "M"
        ],
        [
         16,
         "ABC13",
         47,
         "M"
        ],
        [
         26,
         "ABC22",
         26,
         "M"
        ],
        [
         24,
         "ABC19",
         43,
         "M"
        ],
        [
         16,
         "ABC12",
         63,
         "M"
        ],
        [
         0,
         "ABC35",
         63,
         "M"
        ],
        [
         33,
         "ABC32",
         53,
         "F"
        ],
        [
         18,
         "ABC15",
         53,
         "M"
        ],
        [
         27,
         "ABC22",
         45,
         "F"
        ],
        [
         37,
         "ABC34",
         39,
         "F"
        ],
        [
         4,
         "ABC39",
         38,
         "M"
        ],
        [
         31,
         "ABC26",
         53,
         "F"
        ],
        [
         5,
         "ABC3",
         22,
         "F"
        ],
        [
         25,
         "ABC24",
         18,
         "F"
        ],
        [
         35,
         "ABC32",
         20,
         "F"
        ],
        [
         34,
         "ABC31",
         61,
         "M"
        ],
        [
         20,
         "ABC16",
         50,
         "M"
        ],
        [
         1,
         "ABC39",
         51,
         "F"
        ],
        [
         6,
         "ABC3",
         55,
         "M"
        ],
        [
         32,
         "ABC29",
         55,
         "M"
        ],
        [
         24,
         "ABC23",
         58,
         "M"
        ],
        [
         11,
         "ABC10",
         34,
         "F"
        ],
        [
         3,
         "ABC0",
         62,
         "F"
        ],
        [
         23,
         "ABC20",
         37,
         "F"
        ],
        [
         25,
         "ABC22",
         65,
         "F"
        ],
        [
         4,
         "ABC0",
         47,
         "M"
        ],
        [
         27,
         "ABC24",
         61,
         "F"
        ],
        [
         29,
         "ABC25",
         62,
         "F"
        ],
        [
         3,
         "ABC2",
         53,
         "F"
        ],
        [
         31,
         "ABC28",
         47,
         "F"
        ],
        [
         7,
         "ABC4",
         54,
         "F"
        ],
        [
         6,
         "ABC1",
         62,
         "M"
        ]
       ],
       "datasetInfos": [],
       "dbfsResultPath": null,
       "isJsonSchema": true,
       "metadata": {},
       "overflow": false,
       "plotOptions": {
        "customPlotOptions": {},
        "displayType": "table",
        "pivotAggregation": null,
        "pivotColumns": null,
        "xColumns": null,
        "yColumns": null
       },
       "removedWidgets": [],
       "schema": [
        {
         "metadata": "{\"scale\":0}",
         "name": "customer_id",
         "type": "\"integer\""
        },
        {
         "metadata": "{\"scale\":0}",
         "name": "customer_name",
         "type": "\"string\""
        },
        {
         "metadata": "{}",
         "name": "customer_age",
         "type": "\"integer\""
        },
        {
         "metadata": "{}",
         "name": "customer_gender",
         "type": "\"string\""
        }
       ],
       "type": "table"
      }
     },
     "output_type": "display_data"
    }
   ],
   "source": [
    "display(df2)"
   ]
  },
  {
   "cell_type": "code",
   "execution_count": 0,
   "metadata": {
    "application/vnd.databricks.v1+cell": {
     "cellMetadata": {
      "byteLimit": 2048000,
      "rowLimit": 10000
     },
     "inputWidgets": {},
     "nuid": "ca0d1c74-3c82-485e-a7a1-6443017be0a6",
     "showTitle": false,
     "tableResultSettingsMap": {},
     "title": ""
    }
   },
   "outputs": [],
   "source": [
    "file_path5 = \"silver_Zone/Customer_Dimension\""
   ]
  },
  {
   "cell_type": "code",
   "execution_count": 0,
   "metadata": {
    "application/vnd.databricks.v1+cell": {
     "cellMetadata": {
      "byteLimit": 2048000,
      "rowLimit": 10000
     },
     "inputWidgets": {},
     "nuid": "bfceaaba-6289-4aa7-9a79-924798ad12c9",
     "showTitle": false,
     "tableResultSettingsMap": {},
     "title": ""
    }
   },
   "outputs": [],
   "source": [
    "df2.repartition(1).write.save(f\"abfss://{container_name}@{storage_account_name}.dfs.core.windows.net/{file_path5}\")"
   ]
  },
  {
   "cell_type": "code",
   "execution_count": 0,
   "metadata": {
    "application/vnd.databricks.v1+cell": {
     "cellMetadata": {
      "byteLimit": 2048000,
      "rowLimit": 10000
     },
     "inputWidgets": {},
     "nuid": "4ea505df-27ad-4a2c-b901-944207c3f25f",
     "showTitle": false,
     "tableResultSettingsMap": {},
     "title": ""
    }
   },
   "outputs": [
    {
     "name": "stdout",
     "output_type": "stream",
     "text": [
      "Out[14]: 197"
     ]
    }
   ],
   "source": [
    "df2.count()"
   ]
  }
 ],
 "metadata": {
  "application/vnd.databricks.v1+notebook": {
   "computePreferences": null,
   "dashboards": [],
   "environmentMetadata": null,
   "language": "python",
   "notebookMetadata": {
    "mostRecentlyExecutedCommandWithImplicitDF": {
     "commandId": -1,
     "dataframes": [
      "_sqldf"
     ]
    },
    "pythonIndentUnit": 4
   },
   "notebookName": "Customer_Dimension",
   "widgets": {}
  },
  "language_info": {
   "name": "python"
  }
 },
 "nbformat": 4,
 "nbformat_minor": 0
}
