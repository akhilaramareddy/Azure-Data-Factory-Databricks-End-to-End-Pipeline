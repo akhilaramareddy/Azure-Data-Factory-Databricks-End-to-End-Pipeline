{
 "cells": [
  {
   "cell_type": "markdown",
   "metadata": {
    "application/vnd.databricks.v1+cell": {
     "cellMetadata": {},
     "inputWidgets": {},
     "nuid": "f688bee7-a795-4920-bc66-4624a71525ac",
     "showTitle": false,
     "tableResultSettingsMap": {},
     "title": ""
    }
   },
   "source": [
    "#Create a Payment Status dimension"
   ]
  },
  {
   "cell_type": "code",
   "execution_count": 0,
   "metadata": {
    "application/vnd.databricks.v1+cell": {
     "cellMetadata": {
      "byteLimit": 2048000,
      "rowLimit": 10000
     },
     "inputWidgets": {},
     "nuid": "07b36bce-6abe-4017-8c55-32072eb52de7",
     "showTitle": false,
     "tableResultSettingsMap": {},
     "title": ""
    }
   },
   "outputs": [],
   "source": [
    "from delta.tables import *\n",
    "from pyspark.sql.functions import *\n",
    "import pyspark.sql.functions as F"
   ]
  },
  {
   "cell_type": "code",
   "execution_count": 0,
   "metadata": {
    "application/vnd.databricks.v1+cell": {
     "cellMetadata": {
      "byteLimit": 2048000,
      "rowLimit": 10000
     },
     "inputWidgets": {},
     "nuid": "45584397-d089-4b7b-8834-a60d01475acd",
     "showTitle": false,
     "tableResultSettingsMap": {},
     "title": ""
    }
   },
   "outputs": [],
   "source": [
    "# Azure Blob Storage details\n",
    "storage_account_name = \"<storage-account-name>\"\n",
    "storage_account_key = \"<storage-account-access-key>\"\n",
    "container_name = \"deltalake\"\n",
    "file_path1 = \"bronze/Trip_Transactions\"\n",
    "file_path2 = \"bronze/Rewards_Points\""
   ]
  },
  {
   "cell_type": "code",
   "execution_count": 0,
   "metadata": {
    "application/vnd.databricks.v1+cell": {
     "cellMetadata": {
      "byteLimit": 2048000,
      "rowLimit": 10000
     },
     "inputWidgets": {},
     "nuid": "22c31f42-c53f-4382-88d9-10195d1eb899",
     "showTitle": false,
     "tableResultSettingsMap": {},
     "title": ""
    }
   },
   "outputs": [],
   "source": [
    "spark.conf.set(f\"fs.azure.account.key.{storage_account_name}.dfs.core.windows.net\", storage_account_key)"
   ]
  },
  {
   "cell_type": "code",
   "execution_count": 0,
   "metadata": {
    "application/vnd.databricks.v1+cell": {
     "cellMetadata": {
      "byteLimit": 2048000,
      "rowLimit": 10000
     },
     "inputWidgets": {},
     "nuid": "724972a0-0fd1-46b2-aa58-b82183e5b5f5",
     "showTitle": false,
     "tableResultSettingsMap": {},
     "title": ""
    }
   },
   "outputs": [],
   "source": [
    "df1=spark.read.load(f\"abfss://{container_name}@{storage_account_name}.dfs.core.windows.net/{file_path1}\")"
   ]
  },
  {
   "cell_type": "code",
   "execution_count": 0,
   "metadata": {
    "application/vnd.databricks.v1+cell": {
     "cellMetadata": {
      "byteLimit": 2048000,
      "rowLimit": 10000
     },
     "inputWidgets": {},
     "nuid": "5c01d2bf-d591-4166-8de9-db4d1f17e9ef",
     "showTitle": false,
     "tableResultSettingsMap": {},
     "title": ""
    }
   },
   "outputs": [
    {
     "output_type": "stream",
     "name": "stdout",
     "output_type": "stream",
     "text": [
      "+-------+--------------------+--------------------+---------+-----------+------------------------+-----------+---------------------+--------------+-----------------------------+----------------+--------------------------+-------------------+--------------+----------+-----------+---------------------+--------------------+--------------------+-----------+-------------+\n|trip_id|trip_start_timestamp|  trip_end_timestamp|driver_id|driver_name|source_location_address1|source_city|source_province_state|source_country|destination_location_address1|destination_city|destination_province_state|destination_country|total_distance|total_fare|trip_status|delay_start_time_mins|      payment_method|      payment_Status|customer_id|customer_name|\n+-------+--------------------+--------------------+---------+-----------+------------------------+-----------+---------------------+--------------+-----------------------------+----------------+--------------------------+-------------------+--------------+----------+-----------+---------------------+--------------------+--------------------+-----------+-------------+\n|      1| 2022-12-04 05:17:52| 2022-12-04 07:17:52|       A1|        Ram|     21/3, Jubliee hills|  Hyderabad|                   TS|         India|                         null|      Vijayawada|                        AP|              India|             0|         0|  Completed|                    0|                Cash|             Cleared|          1|         ABC0|\n|      2|2022-12-04 07:17:...|2022-12-04 09:17:...|       A2|        Sam|     172/4, Gandhi nagar|      Delhi|                  NCR|         India|                         null|            Agra|                        UP|              India|           222|      1949|  Completed|                    4|Credit/Online Ban...|Confirmation awai...|          2|         ABC1|\n|      3|2022-12-04 09:17:...|2022-12-04 11:17:...|       A3|      Kevin|         9/3-12, T-nagar|    Chennai|                   TN|         India|                         null|           Salem|                        TN|              India|           354|       722|  Completed|                    0|              Wallet|           Completed|          3|         ABC2|\n|      4|2022-12-04 11:17:...|2022-12-04 13:17:...|       A4|    Aaditya|      10/3, Madurai main|    Madurai|                   TN|         India|                         null|          Trichy|                        TN|              India|           189|       627|  Completed|                    3|                Cash|             Cleared|          4|         ABC3|\n|      5|2022-12-04 13:17:...|2022-12-04 15:17:...|       A5|      Sagar|    6/4, Malleshwaram...|  Bangalore|                   KN|         India|                         null|         Chennai|                        TN|              India|           305|      1465|  Completed|                    0|Credit/Online Ban...|Confirmation awai...|          5|         ABC4|\n|      6|2022-12-04 15:17:...|2022-12-04 17:17:...|       A6|      David|      57/3, Kanjata road|       Agra|                   UP|         India|                         null|         Kolkata|                        WB|              India|           236|      1050|  Completed|                   10|Credit/Online Ban...|Confirmation awai...|          6|         ABC5|\n|      7|2022-12-04 17:17:...|2022-12-04 19:17:...|       A7|     Nivaan|      18/4-1, Lodhi road|     Delhi |                  NCR|         India|                         null|          Mumbai|                        MH|              India|           319|       457|  Completed|                    4|                Cash|             Cleared|          7|         ABC6|\n|      8|2022-12-04 19:17:...|2022-12-04 21:17:...|       A8|      Aarav|     21/3, Jubliee hills|  Hyderabad|                   TS|         India|                         null|       Tirupathi|                        AP|              India|           257|       116|  Completed|                   10|              Wallet|           Completed|          8|         ABC7|\n|      9|2022-12-04 21:17:...|2022-12-04 23:17:...|       A9|      Sadru|     2/4,6, airport road|    Chennai|                   TN|         India|                         null|        Tanjavur|                        TN|              India|           286|      1724|  Completed|                    1|                Cash|             Cleared|          9|         ABC8|\n|     10|2022-12-04 23:17:...|2022-12-05 01:17:...|      A10|      Amith|      45/6, Heritage St |   Amritsar|               Punjab|         India|                         null|           Delhi|                       NCR|              India|           311|      1647|  Completed|                   10|              Wallet|           Completed|         10|         ABC9|\n|     11|2022-12-05 01:17:...|2022-12-05 03:17:...|      A11|       Ajay|    34/6, Desikar Koi...|Kanchipuram|                   TN|         India|                         null|         Madurai|                        TN|              India|           347|        35|  Completed|                    5|                Cash|             Cleared|         11|        ABC10|\n|     12|2022-12-05 03:17:...|2022-12-05 05:17:...|      A12|      Nihal|    65-2, Halkal Junc...|      Udupi|                   KN|         India|                         null|       Bangalore|                        KN|              India|           219|      1565|  Completed|                    5|Credit/Online Ban...|Confirmation awai...|         12|        ABC11|\n|     13|2022-12-05 05:17:...|2022-12-05 07:17:...|      A13|    Saatvik|    26, Vishnupuri NX...|     Indore|                   MP|         India|                         null|          Bhopal|                        MP|              India|           190|      1548|  Completed|                    6|              Wallet|           Completed|         13|        ABC12|\n|     14|2022-12-05 07:17:...|2022-12-05 09:17:...|      A14|     Andrew|       6-56, Bhatar road|      Surat|                   MH|         India|                         null|            Pune|                        MH|              India|           126|      1597|  Completed|                   10|              Wallet|           Completed|         14|        ABC13|\n|     15|2022-12-05 09:17:...|2022-12-05 11:17:...|      A15|     Dinesh|    1/381c, Sivaji nagar|      Hosur|                   KN|         India|                         null|       Bangalore|                        KN|              India|           379|      1728|  Completed|                    4|                Cash|             Cleared|         15|        ABC14|\n|     16|2022-12-05 11:17:...|2022-12-05 13:17:...|      A16|    Stephen|      98, Shanmugam road|      Kochi|                   TN|         India|                         null|      Coimbatore|                        TN|              India|            60|      1845|  Completed|                    4|Credit/Online Ban...|Confirmation awai...|         16|        ABC15|\n|     17|2022-12-05 13:17:...|2022-12-05 15:17:...|      A17|     Steves|       45-6, Kovai Pudur| Coimbatore|                   TN|         India|                         null|           Salem|                        TN|              India|           337|      1424|  Completed|                    6|Credit/Online Ban...|Confirmation awai...|         17|        ABC16|\n|     18|2022-12-05 15:17:...|2022-12-05 17:17:...|      A18|      Akash|    67-23, Big temple...|   Tanjavor|                   TN|         India|                         null|          Trichy|                        TN|              India|           199|      1217|  Completed|                    3|Credit/Online Ban...|Confirmation awai...|         18|        ABC17|\n|     19|2022-12-05 17:17:...|2022-12-05 19:17:...|      A19|      Nihit|    23,4- PSG college...| Coimbatore|                   TN|         India|                         null|         Chennai|                        TN|              India|           131|      1597|  Completed|                    9|              Wallet|           Completed|         19|        ABC18|\n|     20|2022-12-05 19:17:...|2022-12-05 21:17:...|      A20|     Vishal|        8-3-53, MGR road|      Hosur|                   KN|         India|                         null|           Salem|                        TN|              India|           220|      1180|  Completed|                    8|              Wallet|           Completed|         20|        ABC19|\n+-------+--------------------+--------------------+---------+-----------+------------------------+-----------+---------------------+--------------+-----------------------------+----------------+--------------------------+-------------------+--------------+----------+-----------+---------------------+--------------------+--------------------+-----------+-------------+\nonly showing top 20 rows\n\n"
     ]
    }
   ],
   "source": [
    "df1.show()"
   ]
  },
  {
   "cell_type": "code",
   "execution_count": 0,
   "metadata": {
    "application/vnd.databricks.v1+cell": {
     "cellMetadata": {
      "byteLimit": 2048000,
      "rowLimit": 10000
     },
     "inputWidgets": {},
     "nuid": "732adb56-7880-4d3c-8995-82a04cdcfbf6",
     "showTitle": false,
     "tableResultSettingsMap": {},
     "title": ""
    }
   },
   "outputs": [],
   "source": [
    "df2=df1.select(\"trip_id\",\"payment_method\",\"payment_Status\",\"trip_start_timestamp\")"
   ]
  },
  {
   "cell_type": "code",
   "execution_count": 0,
   "metadata": {
    "application/vnd.databricks.v1+cell": {
     "cellMetadata": {
      "byteLimit": 2048000,
      "rowLimit": 10000
     },
     "inputWidgets": {},
     "nuid": "707e3786-4ecd-44aa-9e0b-399e1f5b8ee8",
     "showTitle": false,
     "tableResultSettingsMap": {},
     "title": ""
    }
   },
   "outputs": [],
   "source": [
    "df2=df2.withColumn(\"Due_Date\",F.expr(\"to_date(trip_start_timestamp)+7\"))"
   ]
  },
  {
   "cell_type": "code",
   "execution_count": 0,
   "metadata": {
    "application/vnd.databricks.v1+cell": {
     "cellMetadata": {
      "byteLimit": 2048000,
      "rowLimit": 10000
     },
     "inputWidgets": {},
     "nuid": "8cfc63c9-bf37-4f91-8d92-7f6ecb0c83b8",
     "showTitle": false,
     "tableResultSettingsMap": {},
     "title": ""
    }
   },
   "outputs": [],
   "source": [
    "file_path7 = \"silver_Zone/Payment_Status_Dimension\""
   ]
  },
  {
   "cell_type": "code",
   "execution_count": 0,
   "metadata": {
    "application/vnd.databricks.v1+cell": {
     "cellMetadata": {
      "byteLimit": 2048000,
      "rowLimit": 10000
     },
     "inputWidgets": {},
     "nuid": "ae9b9949-1b9f-4690-bb0e-1ad904df9003",
     "showTitle": false,
     "tableResultSettingsMap": {},
     "title": ""
    }
   },
   "outputs": [],
   "source": [
    "df2.repartition(1).write.save(f\"abfss://{container_name}@{storage_account_name}.dfs.core.windows.net/{file_path7}\")"
   ]
  }
 ],
 "metadata": {
  "application/vnd.databricks.v1+notebook": {
   "computePreferences": null,
   "dashboards": [],
   "environmentMetadata": null,
   "language": "python",
   "notebookMetadata": {
    "pythonIndentUnit": 4
   },
   "notebookName": "Payment_status_dimension",
   "widgets": {}
  }
 },
 "nbformat": 4,
 "nbformat_minor": 0
}
